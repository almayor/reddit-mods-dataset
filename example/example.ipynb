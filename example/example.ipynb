{
 "cells": [
  {
   "cell_type": "markdown",
   "id": "39c5b51b-f411-4019-aadc-91dd218ea72c",
   "metadata": {},
   "source": [
    "# Loading libraries and data"
   ]
  },
  {
   "cell_type": "code",
   "execution_count": 4,
   "id": "e5aac85f-857d-4680-81e6-7adaaa16e5ba",
   "metadata": {},
   "outputs": [],
   "source": [
    "import networkx as nx\n",
    "import pandas as pd\n",
    "import matplotlib.pyplot as plt\n",
    "import numpy as np\n",
    "from collections import defaultdict\n",
    "from scipy import stats\n",
    "from tqdm.auto import tqdm, trange\n",
    "from networkx.algorithms import bipartite"
   ]
  },
  {
   "cell_type": "code",
   "execution_count": 8,
   "id": "988af2af-7e90-42d2-a63f-d6c2a0b6258c",
   "metadata": {},
   "outputs": [],
   "source": [
    "g = nx.read_gexf('../graph.gexf')"
   ]
  },
  {
   "cell_type": "markdown",
   "id": "ac1432d4-0779-482e-8774-43679c32c6aa",
   "metadata": {},
   "source": [
    "# Preprocessing"
   ]
  },
  {
   "cell_type": "markdown",
   "id": "eec02865-80c2-4b68-a5c5-c9230f3f09c9",
   "metadata": {},
   "source": [
    "## Removing super-mods "
   ]
  },
  {
   "cell_type": "markdown",
   "id": "cfb509f1-f277-4ba8-89f9-946946c2d099",
   "metadata": {},
   "source": [
    "Let's try to identify supermods. Even if they aren't bots, they moderate so many subs that they can't possibly pay attention to all of them. Edges due to them aren't meaningful."
   ]
  },
  {
   "cell_type": "code",
   "execution_count": 11,
   "id": "970b10ad-522d-4941-9627-82ce8443eac6",
   "metadata": {},
   "outputs": [],
   "source": [
    "mod_nodes = {n for n, d in g.nodes(data=True) if d[\"bipartite\"] == 0}"
   ]
  },
  {
   "cell_type": "code",
   "execution_count": 12,
   "id": "ae142a6b-e6ea-4bf7-9cc1-516544ab9eac",
   "metadata": {},
   "outputs": [],
   "source": [
    "n_moderated = [len(g.edges(n)) for n in mod_nodes]"
   ]
  },
  {
   "cell_type": "code",
   "execution_count": 13,
   "id": "9a46cde8-86d9-4629-aa70-745e982e8962",
   "metadata": {},
   "outputs": [
    {
     "data": {
      "image/png": "[encoded data removed]",
      "text/plain": [
       "<Figure size 640x480 with 1 Axes>"
      ]
     },
     "metadata": {},
     "output_type": "display_data"
    }
   ],
   "source": [
    "plt.hist(n_moderated, bins=50)\n",
    "plt.xlim([1, 50])\n",
    "plt.xlabel(\"Mod moderates # subreddits\")\n",
    "plt.ylabel(\"Number\");"
   ]
  },
  {
   "cell_type": "code",
   "execution_count": 14,
   "id": "f1556ec8-5997-45b5-812c-9d574309cf75",
   "metadata": {},
   "outputs": [
    {
     "data": {
      "text/plain": [
       "99.77130281880063"
      ]
     },
     "execution_count": 14,
     "metadata": {},
     "output_type": "execute_result"
    }
   ],
   "source": [
    "stats.percentileofscore(n_moderated, 15)"
   ]
  },
  {
   "cell_type": "markdown",
   "id": "27f3b4ea-7e87-4349-abdf-c3c48ac985ac",
   "metadata": {},
   "source": [
    "By removing all moderators that moderate > 15 subs, we'd only be removing 0.23% of all moderators, but 79.2% of all edges."
   ]
  },
  {
   "cell_type": "code",
   "execution_count": 23,
   "id": "d5dde14a-916d-4b96-8c3a-c9210ba15a22",
   "metadata": {},
   "outputs": [],
   "source": [
    "mods_to_remove = {n for n in mod_nodes if len(g.edges(n)) > 15}\n",
    "g.remove_nodes_from(mods_to_remove)"
   ]
  },
  {
   "cell_type": "markdown",
   "id": "00121603-cb69-46e7-98a0-4a291629688c",
   "metadata": {},
   "source": [
    "Removing edges has split our graph into isolated connected components."
   ]
  },
  {
   "cell_type": "code",
   "execution_count": 31,
   "id": "c04b6047-2562-4567-9cd3-c33aea64661a",
   "metadata": {},
   "outputs": [
    {
     "data": {
      "text/plain": [
       "11802"
      ]
     },
     "execution_count": 31,
     "metadata": {},
     "output_type": "execute_result"
    }
   ],
   "source": [
    "isolates = list(nx.connected_components(g))\n",
    "len(isolates)"
   ]
  },
  {
   "cell_type": "code",
   "execution_count": 59,
   "id": "f72978d5-6713-471a-a35b-062efd3378d5",
   "metadata": {},
   "outputs": [
    {
     "data": {
      "text/plain": [
       "(30183, 47, 26215)"
      ]
     },
     "execution_count": 59,
     "metadata": {},
     "output_type": "execute_result"
    }
   ],
   "source": [
    "isolates_size = sorted([len(iso) // 2 for iso in isolates], reverse=True)\n",
    "isolates_size[0], isolates_size[1], sum(isolates_size[2:])"
   ]
  },
  {
   "cell_type": "markdown",
   "id": "3ea55afc-e2ef-41c5-bc61-6c3b6b060ee6",
   "metadata": {},
   "source": [
    "So we have 11'802 components. Of these, there is one giant component of 30'183 subs, and other smaller components comprising in total 26'262 subs."
   ]
  },
  {
   "cell_type": "markdown",
   "id": "5c5f08c8-b83e-403b-86f8-b05e94485cea",
   "metadata": {},
   "source": [
    "## Computing edge conductivity"
   ]
  },
  {
   "cell_type": "markdown",
   "id": "99325490-bec8-4a8d-8e0b-94677daaf146",
   "metadata": {},
   "source": [
    "We also compute edge conductivity, where the conductivity of an edge is equal to $1/(\\text{\\# subs that this mod moderates})$. We will use this metric later on to compute [Resistance Distance](https://en.wikipedia.org/wiki/Resistance_distance)."
   ]
  },
  {
   "cell_type": "code",
   "execution_count": 164,
   "id": "c75190ba-67ca-4616-919b-48910d34b25a",
   "metadata": {},
   "outputs": [],
   "source": [
    "edge_conductivity = dict()\n",
    "sub_n_members = nx.get_node_attributes(g, \"size\")\n",
    "for mod, sub in g.edges:\n",
    "    edge_conductivity[(mod, sub)] = 1 / len(g.edges(mod))"
   ]
  },
  {
   "cell_type": "code",
   "execution_count": 165,
   "id": "8ebcef44-776f-4f94-9aa5-2ec21c6122b4",
   "metadata": {},
   "outputs": [],
   "source": [
    "nx.set_edge_attributes(g, edge_conductivity, 'conductivity')"
   ]
  },
  {
   "cell_type": "markdown",
   "id": "6eacf9ba-9d01-4a2a-a3fe-7f4449503f28",
   "metadata": {},
   "source": [
    "# Exploration"
   ]
  },
  {
   "cell_type": "markdown",
   "id": "f077f333-c180-4fd2-93e1-95a0704927ac",
   "metadata": {},
   "source": [
    "My strategy is as follows. I will be using [Resistance Distance](https://en.wikipedia.org/wiki/Resistance_distance) to rank subs in order of relevance.\n",
    "\n",
    "However, computing the resistance distance is slow, so instead of running it on the whole graph, I will select a group of nodes around my subreddit of interest (aka the **locality**). I will then rank those candidates using the resistance distance as a metric."
   ]
  },
  {
   "cell_type": "code",
   "execution_count": 177,
   "id": "ef3bf52d-c5d6-48be-860d-d9ff86a81467",
   "metadata": {},
   "outputs": [],
   "source": [
    "def get_locality(path_lengths, s0, max_loc_size):\n",
    "    #increasing maximum path length from s0 to nodes until I reach my desired locality size\n",
    "    max_length = 0\n",
    "    curr_locality = [s0]\n",
    "    next_locality = [u for u in path_lengths if path_lengths[u] < max_length * 2]\n",
    "    \n",
    "    while len(next_locality) < max_loc_size and len(next_locality) < len(path_lengths):\n",
    "        max_length += 1\n",
    "        curr_locality = next_locality\n",
    "        next_locality = [u for u in path_lengths if path_lengths[u] < max_length * 2]\n",
    "\n",
    "    return curr_locality"
   ]
  },
  {
   "cell_type": "markdown",
   "id": "061708cc-cccf-4f26-b5a9-106050a231e9",
   "metadata": {},
   "source": [
    "Let's explore an interesting subreddit called [r/hebrew](https://www.reddit.com/r/hebrew)."
   ]
  },
  {
   "cell_type": "code",
   "execution_count": 178,
   "id": "cf051fdd-44b3-4833-b83b-2573a598d56b",
   "metadata": {},
   "outputs": [],
   "source": [
    "s0 = 'hebrew'"
   ]
  },
  {
   "cell_type": "code",
   "execution_count": 179,
   "id": "2ae5ae5c-69e7-4eb6-9132-70a330f51d71",
   "metadata": {},
   "outputs": [],
   "source": [
    "path_lengths = nx.shortest_path_length(g, source=s0)\n",
    "locality = get_locality(path_lengths, s0, max_loc_size=5000)"
   ]
  },
  {
   "cell_type": "code",
   "execution_count": 183,
   "id": "2fbdee60-b666-4f60-b52d-d2b963ded934",
   "metadata": {},
   "outputs": [],
   "source": [
    "#a subgraph covering our locality\n",
    "g_local = g.subgraph(locality)"
   ]
  },
  {
   "cell_type": "code",
   "execution_count": 181,
   "id": "7d983395-bc4b-45d8-b9b1-993d4c9715e0",
   "metadata": {},
   "outputs": [
    {
     "name": "stdout",
     "output_type": "stream",
     "text": [
      "CPU times: user 1min 23s, sys: 23.3 s, total: 1min 46s\n",
      "Wall time: 15.6 s\n"
     ]
    }
   ],
   "source": [
    "%time res_dist = nx.resistance_distance(g_local, nodeA=s0, weight='conductivity')"
   ]
  },
  {
   "cell_type": "markdown",
   "id": "7f9c3d44-1abd-4d37-8d40-d58f78c30d05",
   "metadata": {},
   "source": [
    "Now let's select the nodes."
   ]
  },
  {
   "cell_type": "code",
   "execution_count": 169,
   "id": "56748c9d-7a4f-4f29-8138-ad5742dec44f",
   "metadata": {},
   "outputs": [],
   "source": [
    "mod_nodes = {n for n, d in g_local.nodes(data=True) if d[\"bipartite\"] == 0}\n",
    "sub_nodes = {n for n, d in g_local.nodes(data=True) if d[\"bipartite\"] == 1}"
   ]
  },
  {
   "cell_type": "code",
   "execution_count": 249,
   "id": "4ca57734-5a98-42c5-a039-b39cab30d9ee",
   "metadata": {},
   "outputs": [],
   "source": [
    "candidate_subs = [k for k in res_dist.keys() if k in sub_nodes]\n",
    "#`sorted` is a stable sort\n",
    "candidate_subs = sorted(candidates, key=res_dist.get)\n",
    "candidate_subs = sorted(candidate_subs, key=path_lengths.get)\n",
    "#keeping top-20\n",
    "candidate_subs = candidate_subs"
   ]
  },
  {
   "cell_type": "code",
   "execution_count": 250,
   "id": "c519ec05-0048-4b9c-815c-d9f6a9f4138d",
   "metadata": {},
   "outputs": [
    {
     "name": "stdout",
     "output_type": "stream",
     "text": [
      "hebrew 0 0.0\n",
      "Yiddish 2 195.54789382586608\n",
      "Judaism 2 344.58383222971\n",
      "Wildlife 2 372.21935964024794\n",
      "burgers 2 394.79357793931786\n",
      "Ranching 2 411.3654248417137\n",
      "analytics 2 421.1083133076957\n",
      "snowden 4 417.7020580707556\n",
      "nature 4 431.0969639883031\n",
      "organic 4 438.57274098789117\n",
      "lifeaquatic 4 446.11451423970516\n",
      "Shipwrecks 4 480.30419558679347\n",
      "paleonews 4 480.3041955867943\n",
      "RenewableEnergy 4 505.5326100949415\n",
      "veg 4 517.9617038201748\n",
      "Jewish 4 520.9441900150788\n",
      "hotdogs 4 561.4198430456763\n",
      "BeforeNAfterAdoption 4 561.4198430456773\n",
      "bigseo 4 668.8325927371208\n",
      "missouri 4 759.1876328738066\n",
      "marketing 4 877.4874290061698\n",
      "Pinterest 4 1014.7950910940602\n",
      "forestry 4 1411.3654248416838\n",
      "SummerReddit 6 408.7054282864516\n",
      "NotaMethAddict 6 415.995671836621\n",
      "Documentaries 6 418.86101892099407\n",
      "AntiTrumpAlliance 6 425.82830937635464\n",
      "conservativeterrorism 6 429.4899848738087\n",
      "Republican_misdeeds 6 437.58164452733763\n",
      "rpg 6 439.57741075946643\n",
      "UkraineWarRoom 6 446.09800674226744\n",
      "Pareidolia 6 452.37607382974693\n",
      "wikipedia 6 459.5857218205342\n",
      "uspolitics 6 468.8572828262571\n",
      "netneutrality 6 473.5927910531887\n",
      "GhostBand 6 484.5104412135536\n",
      "ancientgreece 6 488.51975310223474\n",
      "Sustainable 6 488.63946421419746\n",
      "KeepOurNetFree 6 488.6706702554428\n",
      "foss 6 489.45740639464873\n",
      "opensource 6 489.45740639464896\n",
      "europrivacy 6 493.15138124166265\n",
      "privacy 6 493.1513812416681\n",
      "signal 6 494.1465161377341\n",
      "opsec 6 494.1465161377357\n",
      "Mastodon 6 494.1465161377363\n",
      "musicians 6 497.3191873865894\n",
      "Infosec 6 502.54987748227177\n",
      "OSINT 6 502.5498774822722\n",
      "tails 6 502.5498774822727\n",
      "Beans 6 505.5996454220473\n",
      "uchicago 6 522.0792326449827\n",
      "Delightfullychubby 6 525.7324433007749\n",
      "evolutionReddit 6 529.6754913405421\n",
      "feministtheory 6 535.5855892309128\n",
      "DebateAVegan 6 561.2066280753152\n",
      "EndangeredSpecies 6 562.5890447513023\n",
      "species 6 563.2376482091852\n",
      "PlantBasedDiet 6 564.6404507345674\n",
      "VisitingHawaii 6 596.3079904478773\n",
      "VeganZeroWaste 6 597.7532454638451\n",
      "Sketching 6 599.3461314309083\n",
      "fsm 6 599.7476510933963\n",
      "magpies 6 606.8915540314509\n",
      "trailrunning 6 611.2958299578428\n",
      "ShadowBan 6 618.7224048274309\n",
      "freediving 6 688.7838887622471\n",
      "vlog 6 688.7838887622472\n",
      "underwaterphotography 6 688.7838887622479\n",
      "RunningWithDogs 6 688.7838887622482\n",
      "musicmarketing 6 688.7838887622485\n",
      "darknetplan 6 703.416343785058\n",
      "VeganRamen 6 731.7610042980182\n",
      "tezos 6 789.1306294993315\n",
      "IndiaNonPolitical 6 789.1306294993424\n",
      "rubyonrails 6 789.1306294993626\n",
      "legoideas 6 812.1172030437962\n",
      "conservation 6 815.0061020954428\n",
      "ecology 6 815.0061020954463\n",
      "oceans 6 916.3633421172515\n",
      "mesoamerica 6 917.8593125047917\n",
      "Carlsbad 6 919.0366413226009\n",
      "quantum 6 954.546878451467\n",
      "criminalminds 6 1002.2481307375702\n",
      "girlscouts 6 1034.356417879047\n",
      "PublicSpeaking 6 1040.2611641657622\n",
      "TechSEO 6 1040.2611641657645\n",
      "ClassicHorror 6 1040.2611641658696\n",
      "disclosureparty 6 1079.5978034970012\n",
      "OrganicFarming 6 1105.239407654546\n",
      "Foodhack 6 1105.239407654551\n",
      "columbiamo 6 1759.1876328742992\n",
      "PartyParrot 8 389.1496426922045\n",
      "OnionLovers 8 392.10497186094995\n",
      "worldnews 8 398.55136744183255\n",
      "chickengifs 8 401.3657358046598\n",
      "ayylmao 8 404.2938084613538\n",
      "science 8 409.66954318939753\n",
      "nonose 8 410.89214537650844\n",
      "Cheese 8 412.18283870765845\n",
      "PoliticalHumor 8 412.8007421772593\n",
      "InternetIsBeautiful 8 414.2542802300077\n",
      "gaming 8 414.841150843197\n",
      "WorldNews_Serious 8 417.2377857554762\n",
      "ContraPoints 8 418.133758097395\n",
      "gay 8 419.0550364906537\n",
      "ASCII_Archive 8 420.66749637669824\n",
      "cute 8 420.8383408050038\n",
      "Netherlands 8 421.8011088927441\n",
      "worstof 8 422.0026160389022\n",
      "AmazingTechnology 8 422.4180319802657\n",
      "pimpcats 8 422.5928140823623\n",
      "abandonware 8 423.1754945347204\n",
      "BikeShop 8 423.2356528518385\n",
      "pokemon 8 428.0772611880109\n",
      "Smoothies 8 429.9698057528409\n",
      "StateOfTheUnion 8 430.71310932872314\n",
      "TheOnion 8 431.9422046043035\n",
      "worldnewsvideo 8 432.78687464481783\n",
      "therewasanattempt 8 433.5383524810138\n",
      "PublicFreakout 8 433.54577776838136\n",
      "royalfamily 8 435.2416804622519\n",
      "AskReddit 8 436.2526754976025\n",
      "oddlysatisfying 8 436.4256978889553\n",
      "Hasan_Piker 8 436.7702799656836\n",
      "AskPhysics 8 437.94642810525517\n",
      "verypunny 8 438.34683286290146\n",
      "MyPeopleNeedMe 8 438.8213595343893\n",
      "Unexpected 8 439.1561444972843\n",
      "ToiletPaperUSA 8 439.57246771521267\n",
      "disability 8 441.85419643091035\n",
      "chicagomusicscene 8 442.19401223381675\n",
      "confusing_perspective 8 442.93367484955456\n",
      "Thatsactuallyverycool 8 443.1775042200851\n",
      "IsraelCrimes 8 443.36781709227853\n",
      "Physics 8 443.8823204612566\n",
      "arttheory 8 444.2347745179294\n",
      "CasualTodayILearned 8 444.546091321732\n",
      "boringdystopia 8 444.67289751084036\n",
      "dndnext 8 445.6730923391501\n",
      "onednd 8 445.6730923391507\n",
      "space 8 446.34868170132006\n",
      "Ameristralia 8 450.19311814889807\n",
      "Law_and_Politics 8 451.0468904843003\n",
      "iamatotalpieceofshit 8 451.1114056130049\n",
      "Trumpvirus 8 451.3580195031674\n",
      "WhatsInThisThing 8 453.32300378398503\n",
      "AskMiddleEast 8 453.3497291409385\n",
      "iphone 8 453.4039107487341\n",
      "ios 8 454.8148429551159\n",
      "Palestine 8 455.31157119037135\n",
      "GTA 8 456.4810226018116\n",
      "TheDepthsBelow 8 456.55137516028765\n",
      "gameofthrones 8 456.83850863041033\n",
      "CrazyFuckingVideos 8 456.9630277679788\n",
      "queensland 8 460.1066093891336\n",
      "ELIActually5 8 460.9366037700057\n",
      "LincolnProject 8 462.55830240287366\n",
      "irc 8 462.96687544682396\n",
      "CatTaps 8 463.9335538123644\n",
      "GoldCoast 8 464.7646917646023\n",
      "techsupportgore 8 464.7646917646035\n",
      "OpenAI 8 465.7095674605173\n",
      "AdviceAnimals 8 465.78824934325667\n",
      "BlatantMisogyny 8 466.3961863467605\n",
      "BlackPeopleTwitter 8 468.54902397467004\n",
      "apps 8 469.898283160665\n",
      "Art 8 470.6925045056066\n",
      "TheCure 8 471.06521873640816\n",
      "UsernameChecksOut 8 471.4157730690083\n",
      "Catholic 8 472.3821461269881\n",
      "wheredidthesodago 8 473.84618369620574\n",
      "playark 8 474.24329862466584\n",
      "Futurology 8 475.095173658982\n",
      "comingout 8 475.99642159385144\n",
      "DowntonAbbey 8 475.99642159385354\n",
      "Yogscast 8 475.9964215938554\n",
      "Panarab 8 476.22974575349485\n",
      "AskModerators 8 478.7991491049931\n",
      "MiddleEast 8 480.08293784933096\n",
      "TheLib 8 481.22714572073426\n",
      "TrueUnpopularOpinion 8 481.2898364056216\n",
      "HRSPRS 8 482.09783323226816\n",
      "sloths 8 484.77716262319353\n",
      "IRLEasterEggs 8 487.78235965981804\n",
      "AMA 8 488.6095298410122\n",
      "ContagiousLaughter 8 489.7935798798557\n",
      "jag_ivl 8 490.0449309653471\n",
      "diySolar 8 490.2031493944338\n",
      "ENLIGHTENEDCENTRISM 8 493.04400672189934\n",
      "Rocks 8 494.77724209002895\n",
      "InternetAMA 8 495.14842829840325\n",
      "tankiejerk 8 495.7841437395409\n",
      "AnimalsBeingFunny 8 495.84919978579126\n",
      "PeopleBeingJerks 8 495.8491997857922\n",
      "ActiveMeasures 8 496.93050177536776\n",
      "artificial 8 497.44854716111655\n",
      "redditmoment 8 498.0057853988412\n",
      "AlienBlue 8 499.4386483623088\n",
      "likeus 8 501.8331707359765\n",
      "guncontrol 8 502.5405642261788\n",
      "SwiggitySwootyGifs 8 506.77446194180357\n",
      "LibHumor 8 508.1660058947008\n",
      "neogeo 8 508.3499939087176\n",
      "NewColdWar 8 510.58516244762086\n",
      "pitchforkemporium 8 510.60008839031735\n",
      "TheWayWeWere 8 515.5199020702622\n",
      "brooklynninenine 8 515.5199020702622\n",
      "NotMyJob 8 515.5199020702627\n",
      "OSHA 8 515.5199020702627\n",
      "Dietandhealth 8 515.5199020702629\n",
      "Neverbrokeabone 8 515.519902070263\n",
      "TVDetails 8 515.5199020702631\n",
      "CorporateFacepalm 8 515.5199020702635\n",
      "NatureGifs 8 515.8563185792618\n",
      "transhumanism 8 518.7748848365561\n",
      "screenshots 8 521.5882409305038\n",
      "Figs 8 523.7471040781497\n",
      "Witches 8 523.7471040781512\n",
      "garland 8 523.7471040781525\n",
      "gifs 8 523.9157362433493\n",
      "CitySkylines 8 524.1511724782904\n",
      "water 8 524.1511724782918\n",
      "TheMajorityReport 8 524.1511724782941\n",
      "Vive 8 525.8491997857927\n",
      "nonononoyes 8 525.8491997857928\n",
      "robotics 8 525.8491997858005\n",
      "GreenDawn 8 528.4059267554717\n",
      "shutupandtakemymoney 8 531.2496818406588\n",
      "Brain 8 537.4839244565435\n",
      "blursed_videos 8 539.3601337737217\n",
      "lostredditors 8 539.3601337737305\n",
      "ConsistentlyVerbose 8 539.3601337737314\n",
      "satantiersuperpowers 8 539.3601337737317\n",
      "dadjoke 8 539.3601337737323\n",
      "ToasterRights 8 543.3025207512405\n",
      "INGLIN 8 543.3025207512434\n",
      "Eugene 8 543.8402453357342\n",
      "ArtHistory 8 549.4872371366424\n",
      "VGHS 8 549.5191919417366\n",
      "AskProgramming 8 549.5191919417382\n",
      "Gold 8 549.5191919417393\n",
      "EducativeVideos 8 555.8932503940614\n",
      "UkraineWarVideoReport 8 559.2777936307182\n",
      "movies 8 559.8510041683027\n",
      "happycowgifs 8 562.033178579987\n",
      "single 8 564.2749712555676\n",
      "Tattoocoverups 8 566.9706893369571\n",
      "retiredgif 8 566.9706893369579\n",
      "skrillex 8 571.0449976624403\n",
      "stamps 8 577.4697364924077\n",
      "FreckledGirls 8 579.7428965010026\n",
      "dogswitheyebrows 8 579.7428965010117\n",
      "againstmensrights 8 582.4895298773447\n",
      "rabm 8 582.4895298773571\n",
      "artshub 8 582.4895298773595\n",
      "WhatIsThisPainting 8 582.4895298773622\n",
      "GalaxyS9 8 591.1524318399939\n",
      "HikingAlberta 8 596.9931933992867\n",
      "linux_devices 8 598.4837323450724\n",
      "googleglass 8 598.4837323450736\n",
      "Ubuntu 8 598.483732345074\n",
      "dontstarve 8 598.4837323450744\n",
      "Minecraft 8 598.4837323450779\n",
      "trap 8 599.4733989347172\n",
      "amazonreviews 8 599.4733989347276\n",
      "electrohouse 8 599.473398934728\n",
      "georgetowntx 8 599.4733989347294\n",
      "MinecraftPE 8 599.4733989347301\n",
      "disabledgamers 8 600.9934543736468\n",
      "CampingAlberta 8 601.6436514519235\n",
      "Banff 8 605.8939447765542\n",
      "FishingAlberta 8 611.7935749612677\n",
      "Airdrie 8 611.7935749612684\n",
      "juststart 8 611.79357496127\n",
      "battleshops 8 616.4499219068125\n",
      "photoshopbattles 8 617.7054146877279\n",
      "cutouts 8 618.333161078191\n",
      "energy 8 623.7485894640336\n",
      "vegangifrecipes 8 629.1883904405074\n",
      "Muslim 8 631.1145970545253\n",
      "ATLAtv 8 631.1145970545344\n",
      "awwnverts 8 635.299128101116\n",
      "alberta 8 643.4666931700675\n",
      "recipes 8 646.7438587946824\n",
      "service_dogs 8 646.7438587946847\n",
      "Blind 8 646.7438587946862\n",
      "Metric 8 646.7438587946955\n",
      "fromscratch 8 646.7438587947017\n",
      "irlsmurfing 8 648.8619361893994\n",
      "DeadSpace 8 656.4215164847813\n",
      "Workingout 8 656.4215164847826\n",
      "relaxedpokemontrades 8 656.4215164847832\n",
      "Switch 8 656.4215164847839\n",
      "moviescirclejerk 8 662.5555661739213\n",
      "SteveWallis 8 671.4393731859184\n",
      "NorthCarolina 8 674.1576954293851\n",
      "SquareEnix 8 679.816405814416\n",
      "Disgaea 8 679.8164058144164\n",
      "RealTimeStrategy 8 679.8164058144176\n",
      "BethesdaSoftworks 8 679.8164058144198\n",
      "folklore 8 679.8164058144218\n",
      "HollowKnight 8 679.8164058144428\n",
      "hermitcrabs 8 687.2827883393386\n",
      "AskEconomics 8 690.162137110676\n",
      "Renewable 8 690.3088343807591\n",
      "flicks 8 698.3130941294393\n",
      "Economics 8 710.0593568130452\n",
      "bullcity 8 720.1615789834924\n",
      "HalfLife 8 720.161578983493\n",
      "FarmRPG 8 720.1615789834932\n",
      "tarheels 8 720.1615789834959\n",
      "GlobalOffensive 8 720.1615789834964\n",
      "PlantBased4ThePlanet 8 725.5547417684006\n",
      "trees 8 731.568271525718\n",
      "atheistmemes 8 737.6301393149096\n",
      "PnP 8 738.8538188599015\n",
      "BigAssWhiteGirls 8 739.8959573527522\n",
      "france 8 751.2823454169404\n",
      "TheYardPodcast 8 757.8951131774029\n",
      "LudwigAhgren 8 757.895113177412\n",
      "TalesFromTheCustomer 8 766.3160723551492\n",
      "GnuPG 8 766.8355917679764\n",
      "Qubes 8 766.835591767979\n",
      "antiforensics 8 766.8355917679805\n",
      "whatsthisbug 8 773.2030273115938\n",
      "bestoftribunal 8 784.0634134771092\n",
      "wildbeef 8 796.2808296459621\n",
      "RectalStickers 8 796.2808296459622\n",
      "askgaybros 8 805.2678490270893\n",
      "boardgames 8 809.2829483742187\n",
      "FantasyGrounds 8 809.2829483742373\n",
      "Roll20 8 809.2829483742422\n",
      "polyamory 8 810.6812177750255\n",
      "whatsthisfish 8 810.6812177750346\n",
      "nbaww 8 815.9956718365995\n",
      "irvine 8 815.9956718366197\n",
      "LowSodiumCyberpunk 8 819.8829538971605\n",
      "legos 8 833.6134358958618\n",
      "Internet 8 834.9228928961568\n",
      "decentralization 8 834.9228928961759\n",
      "Permaculture 8 834.9228928961767\n",
      "genestealercult 8 839.5774107594772\n",
      "Knoxville 8 839.577410759478\n",
      "wargames 8 839.5774107594782\n",
      "stonerrock 8 839.5774107594814\n",
      "union 8 877.591558443962\n",
      "EatCheapAndVegan 8 889.3578208623675\n",
      "corejerk 8 906.1519734346734\n",
      "HEALTHY 8 918.3644007180541\n",
      "AnimalCrossing 8 925.5150156152594\n",
      "Mesopotamia 8 932.4177458841992\n",
      "AncientWorld 8 932.4177458842867\n",
      "iRacing 8 932.6702625006287\n",
      "chicagojobs 8 956.5284493550253\n",
      "myterribleneighbors 8 958.6518599235565\n",
      "Heavymind 8 959.0691629413255\n",
      "Insurance 8 963.2114520317231\n",
      "VeganFood 8 966.1411447865056\n",
      "FemmeThoughts 8 966.14114478652\n",
      "amcstock 8 967.3663968898924\n",
      "vegancheesemaking 8 996.6983734907501\n",
      "AskVegans 8 996.6983734907676\n",
      "UFOs 8 1006.1286576604216\n",
      "RPI 8 1031.6726299099525\n",
      "badhistory 8 1035.5855892309478\n",
      "aoe2 8 1041.3863357693467\n",
      "CatholicDating 8 1047.9504917789272\n",
      "spiders 8 1070.2732353311917\n",
      "kauai 8 1072.4984666383466\n",
      "AskLosAngeles 8 1077.4798494710358\n",
      "LAlist 8 1077.479849471049\n",
      "ClassicTrance 8 1082.6623385032574\n",
      "AntiMemes 8 1082.6623385032594\n",
      "ANTM 8 1082.662338503275\n",
      "globalhealth 8 1082.6623385032829\n",
      "Cascadia 8 1135.5239494929274\n",
      "SoundersFC 8 1135.5239494929542\n",
      "cybersecurity 8 1160.8131828043834\n",
      "MrRogersNeighborhood 8 1160.8131828044034\n",
      "Hawaii 8 1167.7365618764431\n",
      "CriticalTheory 8 1202.2522558976186\n",
      "RadicalChristianity 8 1202.2522558976239\n",
      "NonRevenueTravelers 8 1215.3556094954938\n",
      "Recursion 8 1229.904314875857\n",
      "flowers 8 1229.9043148758678\n",
      "aliens 8 1289.6644660466022\n",
      "alone 8 1307.6062063984787\n",
      "QuantumPhysics 8 1354.5468784514787\n",
      "TheKingofRandom 8 1408.7054282864615\n",
      "vogonpoetrycircle 8 1415.9956718366147\n",
      "Fijian 8 1418.8610189210008\n",
      "DungeonWorld 8 1439.5774107594548\n",
      "ravenloft 8 1439.5774107594812\n",
      "ADiscoveryofWitches 8 1440.2611641659596\n",
      "Yellowjackets 8 1440.2611641659623\n",
      "MoviesAnywhere 8 1440.261164165971\n",
      "Monsterverse 8 1440.2611641660305\n",
      "Restoration_Ecology 8 1481.672768762112\n",
      "PublicLands 8 1481.6727687621174\n",
      "WWU 8 1488.5197531022359\n",
      "FluentInFinance 8 1488.6394642143114\n",
      "AntiFacebook 8 1493.1513812415747\n",
      "ontario 8 1493.1513812416351\n",
      "Purism 8 1493.1513812416406\n",
      "FLVS 8 1494.1465161377264\n",
      "EarthStrike 8 1494.1465161377337\n",
      "Hedgehog 8 1525.7324433007575\n",
      "censorship 8 1529.675491340547\n",
      "HypotheticalPhysics 8 1554.5468784514696\n",
      "asexuality 8 1561.2066280752756\n",
      "VeganDE 8 1561.2066280752815\n",
      "Oldnavy 8 1561.2066280753083\n",
      "VeganNL 8 1561.2066280753397\n",
      "InvertPets 8 1563.2376482092145\n",
      "ausenviro 8 1563.2376482092336\n",
      "ArtefactPorn 8 1584.5259791714434\n",
      "Archaeology 8 1584.5259791714516\n",
      "beatles 8 1599.7476510932815\n",
      "pastafarianism 8 1599.7476510934007\n",
      "GuerrillaGardening 8 1605.2394076545397\n",
      "AirBnB 8 1605.2394076545424\n",
      "sonomacounty 8 1605.2394076545447\n",
      "karachi 8 1618.722404827412\n",
      "Experiencers 8 1662.9311368302629\n",
      "skinwalkerranch 8 1662.9311368302715\n",
      "limerence 8 1688.783888762252\n",
      "folkhorror 8 1706.927830832516\n",
      "JurassicPark 8 1706.927830832531\n",
      "vegan1200isplenty 8 1731.7610042980318\n",
      "Everglades 8 1815.0061020954513\n",
      "Nirvana 8 2040.26116416594\n",
      "horrorwriters 8 2040.2611641660703\n",
      "HistamineIntolerance 8 2079.5978034969876\n",
      "RegenerativeAg 8 2105.2394076545206\n",
      "mizzou 8 2759.18763287524\n",
      "ModCoord 9 442.45863746446867\n"
     ]
    }
   ],
   "source": [
    "for s in candidate_subs:\n",
    "    print(s, path_lengths[s], res_dist[s])"
   ]
  },
  {
   "cell_type": "code",
   "execution_count": 245,
   "id": "7541922a-81f9-495f-ba34-38ddb496afe2",
   "metadata": {},
   "outputs": [],
   "source": [
    "candidate_mods = list()\n",
    "for mod in mod_nodes:\n",
    "    inter = set(g.neighbors(mod)) &  set(candidate_subs)\n",
    "    if len(inter) > 1:\n",
    "        candidate_mods.append(mod)"
   ]
  },
  {
   "cell_type": "markdown",
   "id": "3d0011df-e8fd-4ee7-b96c-106507407bcf",
   "metadata": {},
   "source": [
    "We next write out our graph and visualise it in Gephi."
   ]
  },
  {
   "cell_type": "code",
   "execution_count": 247,
   "id": "7f317bdf-8463-4e65-9618-674b39488e0d",
   "metadata": {},
   "outputs": [],
   "source": [
    "candidate_nodes = candidate_subs + candidate_mods\n",
    "nx.write_gexf(g_local.subgraph(candidate_nodes), 'example.gexf')"
   ]
  },
  {
   "cell_type": "markdown",
   "id": "30839b24-51fe-40d6-bd38-c1f2d4e29393",
   "metadata": {},
   "source": [
    "The result:\n",
    "\n",
    "![img](example.png)"
   ]
  },
  {
   "cell_type": "code",
   "execution_count": null,
   "id": "1726317d-b944-4a55-8867-bfa740422640",
   "metadata": {},
   "outputs": [],
   "source": []
  }
 ],
 "metadata": {
  "kernelspec": {
   "display_name": "Python 3 (ipykernel)",
   "language": "python",
   "name": "python3"
  },
  "language_info": {
   "codemirror_mode": {
    "name": "ipython",
    "version": 3
   },
   "file_extension": ".py",
   "mimetype": "text/x-python",
   "name": "python",
   "nbconvert_exporter": "python",
   "pygments_lexer": "ipython3",
   "version": "3.10.11"
  }
 },
 "nbformat": 4,
 "nbformat_minor": 5
}
