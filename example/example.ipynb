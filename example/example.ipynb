{
 "cells": [
  {
   "cell_type": "code",
   "execution_count": 3,
   "id": "e5aac85f-857d-4680-81e6-7adaaa16e5ba",
   "metadata": {},
   "outputs": [],
   "source": [
    "import networkx as nx\n",
    "import pandas as pd\n",
    "import matplotlib.pyplot as plt\n",
    "import numpy as np\n",
    "from collections import defaultdict"
   ]
  },
  {
   "cell_type": "code",
   "execution_count": 4,
   "id": "25033339-fbcc-46f7-8e1e-be800cb48692",
   "metadata": {},
   "outputs": [],
   "source": [
    "df_subs = pd.read_csv('../subreddits.csv')\n",
    "df_mods = pd.read_csv('../moderators.csv', index_col=0)"
   ]
  },
  {
   "cell_type": "code",
   "execution_count": 6,
   "id": "988af2af-7e90-42d2-a63f-d6c2a0b6258c",
   "metadata": {},
   "outputs": [],
   "source": [
    "g = nx.read_gexf('../multi_graph.gexf')"
   ]
  },
  {
   "cell_type": "markdown",
   "id": "890d7a67-3d3f-4bdc-8eab-e4b4bfb94703",
   "metadata": {},
   "source": [
    "Compute basic statistics on subs"
   ]
  },
  {
   "cell_type": "code",
   "execution_count": 152,
   "id": "2f21522d-fdee-4261-9c35-6e35fc00f861",
   "metadata": {},
   "outputs": [],
   "source": [
    "n_members = df_subs.set_index('name').to_dict()['n_members']\n",
    "n_moderators = df_mods.groupby('subreddit').agg(len).to_dict()['moderator']"
   ]
  },
  {
   "cell_type": "markdown",
   "id": "3caf2526-8c5d-451c-8c30-ebb6558692cc",
   "metadata": {},
   "source": [
    "A primitive function to score relatedness between nodes"
   ]
  },
  {
   "cell_type": "code",
   "execution_count": 153,
   "id": "7287dc6a-2f7f-4329-9eba-124d4e68629f",
   "metadata": {},
   "outputs": [],
   "source": [
    "def relatedness(s1, s2):\n",
    "    if edges := g.get_edge_data(s1, s2):\n",
    "        return len(edges) / g.degree(s1) / g.degree(s2)\n",
    "    else:\n",
    "        return 0"
   ]
  },
  {
   "cell_type": "markdown",
   "id": "a5d8799a-6e2d-49a9-b198-001275324cae",
   "metadata": {},
   "source": [
    "Let's focus on `r/Palestine` as it's a sub I know well."
   ]
  },
  {
   "cell_type": "code",
   "execution_count": 154,
   "id": "b7054bd9-7313-4875-a773-882b64b61781",
   "metadata": {},
   "outputs": [],
   "source": [
    "s0 = 'Palestine'\n",
    "distances = nx.shortest_path_length(g, source=s0)"
   ]
  },
  {
   "cell_type": "code",
   "execution_count": 155,
   "id": "11acca55-581b-4dab-bc78-1a3fee90cd0f",
   "metadata": {},
   "outputs": [
    {
     "data": {
      "text/plain": [
       "['IsraelCrimes',\n",
       " 'JewsOfConscience',\n",
       " 'Panarab',\n",
       " 'boringdystopia',\n",
       " 'GreenAndEXTREME',\n",
       " 'AskMiddleEast',\n",
       " 'AbolishTheMonarchy',\n",
       " 'Britain',\n",
       " 'GreenAndPleasant',\n",
       " 'LandlordLove',\n",
       " 'IRLEasterEggs',\n",
       " 'Thatsactuallyverycool',\n",
       " 'Documentaries',\n",
       " 'OpenAI',\n",
       " 'Enough_Vaush_Spam',\n",
       " 'Hasan_Piker',\n",
       " 'therewasanattempt',\n",
       " 'ToiletPaperUSA',\n",
       " 'TheRightCantMeme',\n",
       " 'lostgeneration',\n",
       " 'worldnewsvideo',\n",
       " 'PublicFreakout',\n",
       " 'Unexpected']"
      ]
     },
     "execution_count": 155,
     "metadata": {},
     "output_type": "execute_result"
    }
   ],
   "source": [
    "#Get most related subs\n",
    "sorted(g.neighbors(s0), key=lambda s1: relatedness(s0, s1), reverse=True)"
   ]
  },
  {
   "cell_type": "markdown",
   "id": "8c5baeff-fcd2-43ad-96aa-fa1b7f236345",
   "metadata": {},
   "source": [
    "Let's also add neighbors of second-order"
   ]
  },
  {
   "cell_type": "code",
   "execution_count": 142,
   "id": "4c1b87fe-0ea6-4c06-b2a0-a4846be48078",
   "metadata": {},
   "outputs": [],
   "source": [
    "neighbors_o1 = [s for s, d in distances.items() if d == 1]\n",
    "neighbors_o2 = [s for s, d in distances.items() if d == 2]"
   ]
  },
  {
   "cell_type": "code",
   "execution_count": 143,
   "id": "32a6655b-cdfa-460e-ba51-cae4ce786845",
   "metadata": {},
   "outputs": [
    {
     "data": {
      "text/plain": [
       "(23, 677)"
      ]
     },
     "execution_count": 143,
     "metadata": {},
     "output_type": "execute_result"
    }
   ],
   "source": [
    "len(neighbors_o1), len(neighbors_o2)"
   ]
  },
  {
   "cell_type": "markdown",
   "id": "664b5feb-82e2-4ef5-8bee-83d6ba6e798e",
   "metadata": {},
   "source": [
    "That's too many to plot on a graph. Let's select the most promising second-level nodes:"
   ]
  },
  {
   "cell_type": "code",
   "execution_count": 144,
   "id": "383d2fd0-0d6b-4b1c-be11-ff901befb7d2",
   "metadata": {},
   "outputs": [],
   "source": [
    "#number of adjacent level1 subs\n",
    "o2_nadj_uniq = defaultdict(int)\n",
    "#number of moderators in common, weighted by the total number of moderators in each sub\n",
    "o2_nedg_smart = defaultdict(float)\n",
    "\n",
    "for s2 in neighbors_o2:\n",
    "    for s1 in neighbors_o1:\n",
    "        o2_nadj_uniq[s2] += 1\n",
    "        o2_nedg_smart[s2] += relatedness(s1, s2)\n",
    "\n",
    "\n",
    "#removing all order-2 neighbors that are connected to one order-1 neighbor only\n",
    "neighbors_o2 = {s for s in neighbors_o2 if o2_nadj_uniq[s] > 1}\n",
    "# taking top-5 by nedg_smart criterion\n",
    "neighbors_o2 = sorted(neighbors_o2, key=o2_nedg_smart.get, reverse=True)[:5]"
   ]
  },
  {
   "cell_type": "code",
   "execution_count": 145,
   "id": "84fe2b96-baa3-4537-8831-973f65abc88e",
   "metadata": {},
   "outputs": [
    {
     "data": {
      "text/plain": [
       "['Israel_Palestine',\n",
       " 'internationalpolitics',\n",
       " 'The_Leftorium',\n",
       " 'Labour',\n",
       " 'SocialismIsCapitalism']"
      ]
     },
     "execution_count": 145,
     "metadata": {},
     "output_type": "execute_result"
    }
   ],
   "source": [
    "neighbors_o2"
   ]
  },
  {
   "cell_type": "markdown",
   "id": "978bdfed-870d-4614-a0c2-525873d90f90",
   "metadata": {},
   "source": [
    "Let's visualise. GePhi doesn't support multigraph, so I'll be loading up and filtering my simple graph instead."
   ]
  },
  {
   "cell_type": "code",
   "execution_count": 146,
   "id": "3e8e7786-7aab-4bc5-9cc0-bfcd5b4e9ca6",
   "metadata": {},
   "outputs": [],
   "source": [
    "g_simple = nx.read_gexf('../simple_graph.gexf')"
   ]
  },
  {
   "cell_type": "code",
   "execution_count": 148,
   "id": "55d22b12-9d95-4afc-84e4-f94f4a9bca7b",
   "metadata": {},
   "outputs": [],
   "source": [
    "# nodes_to_keep = set(s0 + neighbors_o1 + neighbors_o2\n",
    "g_simple_sub = g_simple.subgraph([s0] + neighbors_o1 + neighbors_o2)\n",
    "nx.write_gexf(g_simple_sub, 'example_filtered.gexf')"
   ]
  },
  {
   "cell_type": "markdown",
   "id": "ebf8537d-085e-4e70-bd2c-19f7eb4ae0d3",
   "metadata": {},
   "source": [
    "Visualising in GePhi yields the following graph:\n",
    "\n",
    "![img](example_filtered.png)"
   ]
  },
  {
   "cell_type": "code",
   "execution_count": null,
   "id": "53506952-3172-4074-8a3e-b9c487d8b387",
   "metadata": {},
   "outputs": [],
   "source": []
  }
 ],
 "metadata": {
  "kernelspec": {
   "display_name": "Python 3 (ipykernel)",
   "language": "python",
   "name": "python3"
  },
  "language_info": {
   "codemirror_mode": {
    "name": "ipython",
    "version": 3
   },
   "file_extension": ".py",
   "mimetype": "text/x-python",
   "name": "python",
   "nbconvert_exporter": "python",
   "pygments_lexer": "ipython3",
   "version": "3.10.11"
  }
 },
 "nbformat": 4,
 "nbformat_minor": 5
}
