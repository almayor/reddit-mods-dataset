{
 "cells": [
  {
   "cell_type": "markdown",
   "id": "39c5b51b-f411-4019-aadc-91dd218ea72c",
   "metadata": {},
   "source": [
    "# Loading libraries and data"
   ]
  },
  {
   "cell_type": "code",
   "execution_count": 57,
   "id": "e5aac85f-857d-4680-81e6-7adaaa16e5ba",
   "metadata": {},
   "outputs": [],
   "source": [
    "import networkx as nx\n",
    "import pandas as pd\n",
    "import matplotlib.pyplot as plt\n",
    "import numpy as np\n",
    "from collections import defaultdict\n",
    "from datetime import datetime, timedelta\n",
    "from scipy import stats\n",
    "from tqdm.auto import tqdm, trange\n",
    "from networkx.algorithms import bipartite\n",
    "from matplotlib.dates import (\n",
    "    AutoDateLocator, date2num\n",
    ")\n",
    "from pprint import pprint\n",
    "from dateutil.relativedelta import relativedelta"
   ]
  },
  {
   "cell_type": "code",
   "execution_count": 2,
   "id": "988af2af-7e90-42d2-a63f-d6c2a0b6258c",
   "metadata": {},
   "outputs": [],
   "source": [
    "g = nx.read_gexf('../graph.gexf')"
   ]
  },
  {
   "cell_type": "markdown",
   "id": "ac1432d4-0779-482e-8774-43679c32c6aa",
   "metadata": {},
   "source": [
    "# Preprocessing"
   ]
  },
  {
   "cell_type": "markdown",
   "id": "8f1e5a17",
   "metadata": {},
   "source": [
    "## Removing suspended mods "
   ]
  },
  {
   "cell_type": "code",
   "execution_count": 3,
   "id": "b3085c11",
   "metadata": {},
   "outputs": [],
   "source": [
    "suspended_mods = []\n",
    "for n, d in g.nodes(data=True):\n",
    "    if d[\"bipartite\"] == 0 and d['is_suspended'] == True:\n",
    "        suspended_mods.append(n)"
   ]
  },
  {
   "cell_type": "code",
   "execution_count": 20,
   "id": "9aee4fff",
   "metadata": {},
   "outputs": [
    {
     "name": "stdout",
     "output_type": "stream",
     "text": [
      "Removing 609 (2.01%) suspended mods\n"
     ]
    }
   ],
   "source": [
    "n_suspended = len(suspended_mods)\n",
    "n_mods = len([n for n, d in g.nodes(data=True) if d['bipartite'] == 0])\n",
    "pct_suspended = n_suspended / n_mods * 100\n",
    "print(f\"Removing {n_suspended} ({pct_suspended:.2f}%) suspended mods\")"
   ]
  },
  {
   "cell_type": "code",
   "execution_count": 5,
   "id": "383c8761",
   "metadata": {},
   "outputs": [],
   "source": [
    "g.remove_nodes_from(suspended_mods)"
   ]
  },
  {
   "cell_type": "markdown",
   "id": "733d9533",
   "metadata": {},
   "source": [
    "## Removing inactive mods"
   ]
  },
  {
   "cell_type": "code",
   "execution_count": 6,
   "id": "8591d45b",
   "metadata": {},
   "outputs": [],
   "source": [
    "activ_ts = [d['last_active'] for _, d in g.nodes(data=True) if d[\"bipartite\"] == 0]\n",
    "activ_ts = pd.to_datetime(activ_ts, unit='s')\n",
    "activ_ts = activ_ts.dropna()"
   ]
  },
  {
   "cell_type": "code",
   "execution_count": 12,
   "id": "e04e62f0",
   "metadata": {},
   "outputs": [
    {
     "data": {
      "image/png": "[encoded data removed]",
      "text/plain": [
       "<Figure size 640x480 with 1 Axes>"
      ]
     },
     "metadata": {},
     "output_type": "display_data"
    }
   ],
   "source": [
    "fig = plt.figure()\n",
    "ax = fig.add_subplot(111)\n",
    "ax.hist(\n",
    "    date2num(activ_ts),\n",
    "    bins=100,\n",
    "    cumulative=True,\n",
    "    density=True,\n",
    "    histtype=\"step\"\n",
    ")\n",
    "ax.xaxis_date()\n",
    "ax.xaxis.set_major_locator(\n",
    "    AutoDateLocator(minticks=3, interval_multiples=False)\n",
    ")\n",
    "ax.set_ylabel('Cumulative density')\n",
    "ax.set_xlabel('Date of last activity')\n",
    "plt.xticks(rotation=70)\n",
    "\n",
    "s = datetime.now()\n",
    "ax.set_xlim([s - relativedelta(years=2), s]);"
   ]
  },
  {
   "cell_type": "code",
   "execution_count": 15,
   "id": "ef7ea043",
   "metadata": {},
   "outputs": [
    {
     "name": "stdout",
     "output_type": "stream",
     "text": [
      "75.57% of moderators were active in the last three months\n"
     ]
    }
   ],
   "source": [
    "cutoff = datetime.now() - relativedelta(months=3)\n",
    "percentile = sum(activ_ts > cutoff) / len(activ_ts)\n",
    "print(f\"{percentile * 100:.2f}% of moderators were active in the last three months\")"
   ]
  },
  {
   "cell_type": "code",
   "execution_count": 18,
   "id": "64d73116",
   "metadata": {},
   "outputs": [],
   "source": [
    "inactive_mods = []\n",
    "for n, d in g.nodes(data=True):\n",
    "    if d[\"bipartite\"] == 1:\n",
    "        continue\n",
    "    if pd.isnull(d['last_active']):\n",
    "        inactive_mods.append(n)\n",
    "        continue\n",
    "    last_ts = datetime.fromtimestamp(d['last_active'])\n",
    "    if last_ts < cutoff:\n",
    "        inactive_mods.append(n)"
   ]
  },
  {
   "cell_type": "code",
   "execution_count": 21,
   "id": "75d85ec0",
   "metadata": {},
   "outputs": [
    {
     "name": "stdout",
     "output_type": "stream",
     "text": [
      "Removing 7959 (26.29%) inactive mods\n"
     ]
    }
   ],
   "source": [
    "n_inactive = len(inactive_mods)\n",
    "n_mods = len([n for n, d in g.nodes(data=True) if d['bipartite'] == 0])\n",
    "pct_inactive = n_inactive / n_mods * 100\n",
    "print(f\"Removing {n_inactive} ({pct_inactive:.2f}%) inactive mods\")"
   ]
  },
  {
   "cell_type": "code",
   "execution_count": 22,
   "id": "06a91ef6",
   "metadata": {},
   "outputs": [],
   "source": [
    "g.remove_nodes_from(inactive_mods)"
   ]
  },
  {
   "cell_type": "markdown",
   "id": "eec02865-80c2-4b68-a5c5-c9230f3f09c9",
   "metadata": {},
   "source": [
    "## Removing super-mods "
   ]
  },
  {
   "cell_type": "markdown",
   "id": "cfb509f1-f277-4ba8-89f9-946946c2d099",
   "metadata": {},
   "source": [
    "Let's try to identify supermods. If they moderate many subs that they can't possibly pay attention to all of them. Edges due to them aren't meaningful."
   ]
  },
  {
   "cell_type": "code",
   "execution_count": 23,
   "id": "b3167e50",
   "metadata": {},
   "outputs": [],
   "source": [
    "mod_nodes = {n for n, d in g.nodes(data=True) if d[\"bipartite\"] == 0}"
   ]
  },
  {
   "cell_type": "code",
   "execution_count": 24,
   "id": "ae142a6b-e6ea-4bf7-9cc1-516544ab9eac",
   "metadata": {},
   "outputs": [],
   "source": [
    "n_moderated = [len(g.edges(n)) for n in mod_nodes]"
   ]
  },
  {
   "cell_type": "code",
   "execution_count": 30,
   "id": "9a46cde8-86d9-4629-aa70-745e982e8962",
   "metadata": {},
   "outputs": [
    {
     "data": {
      "image/png": "[encoded data removed]",
      "text/plain": [
       "<Figure size 640x480 with 1 Axes>"
      ]
     },
     "metadata": {},
     "output_type": "display_data"
    }
   ],
   "source": [
    "plt.hist(n_moderated, bins=1000)\n",
    "plt.xlim([1, 100])\n",
    "plt.xlabel(\"Mod moderates # subreddits\")\n",
    "plt.ylabel(\"Number\");"
   ]
  },
  {
   "cell_type": "code",
   "execution_count": 38,
   "id": "f1556ec8-5997-45b5-812c-9d574309cf75",
   "metadata": {},
   "outputs": [
    {
     "data": {
      "text/plain": [
       "99.73784449921577"
      ]
     },
     "execution_count": 38,
     "metadata": {},
     "output_type": "execute_result"
    }
   ],
   "source": [
    "stats.percentileofscore(n_moderated, 10)"
   ]
  },
  {
   "cell_type": "markdown",
   "id": "97463e69",
   "metadata": {},
   "source": [
    "Let's remove all modes that moderate over 10 subs."
   ]
  },
  {
   "cell_type": "code",
   "execution_count": 39,
   "id": "d5dde14a-916d-4b96-8c3a-c9210ba15a22",
   "metadata": {},
   "outputs": [
    {
     "name": "stdout",
     "output_type": "stream",
     "text": [
      "Removing 56 (0.25%) super mods\n"
     ]
    }
   ],
   "source": [
    "cutoff = 10\n",
    "super_mods = {n for n in mod_nodes if len(g.edges(n)) > cutoff}\n",
    "n_super = len(super_mods)\n",
    "n_mods = len([n for n, d in g.nodes(data=True) if d['bipartite'] == 0])\n",
    "pct_super = n_super / n_mods * 100\n",
    "print(f\"Removing {n_super} ({pct_super:.2f}%) super mods\")"
   ]
  },
  {
   "cell_type": "code",
   "execution_count": 40,
   "id": "3c10042b",
   "metadata": {},
   "outputs": [],
   "source": [
    "g.remove_nodes_from(super_mods)"
   ]
  },
  {
   "cell_type": "markdown",
   "id": "5c5f08c8-b83e-403b-86f8-b05e94485cea",
   "metadata": {},
   "source": [
    "## Computing edge conductivity"
   ]
  },
  {
   "cell_type": "markdown",
   "id": "99325490-bec8-4a8d-8e0b-94677daaf146",
   "metadata": {},
   "source": [
    "We also compute edge conductivity, where the conductivity of an edge is equal to $1/(\\text{\\# subs that this mod moderates})$. We will use this metric later on to compute [Resistance Distance](https://en.wikipedia.org/wiki/Resistance_distance)."
   ]
  },
  {
   "cell_type": "code",
   "execution_count": 43,
   "id": "c75190ba-67ca-4616-919b-48910d34b25a",
   "metadata": {},
   "outputs": [],
   "source": [
    "edge_conductivity = dict()\n",
    "sub_n_members = nx.get_node_attributes(g, \"size\")\n",
    "for mod, sub in g.edges:\n",
    "    edge_conductivity[(mod, sub)] = 1 / len(g.edges(mod))"
   ]
  },
  {
   "cell_type": "code",
   "execution_count": 44,
   "id": "8ebcef44-776f-4f94-9aa5-2ec21c6122b4",
   "metadata": {},
   "outputs": [],
   "source": [
    "nx.set_edge_attributes(g, edge_conductivity, 'conductivity')"
   ]
  },
  {
   "cell_type": "markdown",
   "id": "6eacf9ba-9d01-4a2a-a3fe-7f4449503f28",
   "metadata": {},
   "source": [
    "# Exploration"
   ]
  },
  {
   "cell_type": "markdown",
   "id": "f194758c",
   "metadata": {},
   "source": [
    "## Looking at isolates "
   ]
  },
  {
   "cell_type": "markdown",
   "id": "00121603-cb69-46e7-98a0-4a291629688c",
   "metadata": {},
   "source": [
    "Removing edges has split our graph into isolated connected components."
   ]
  },
  {
   "cell_type": "code",
   "execution_count": 41,
   "id": "c04b6047-2562-4567-9cd3-c33aea64661a",
   "metadata": {},
   "outputs": [
    {
     "data": {
      "text/plain": [
       "1923"
      ]
     },
     "execution_count": 41,
     "metadata": {},
     "output_type": "execute_result"
    }
   ],
   "source": [
    "isolates = list(nx.connected_components(g))\n",
    "len(isolates)"
   ]
  },
  {
   "cell_type": "code",
   "execution_count": 51,
   "id": "f72978d5-6713-471a-a35b-062efd3378d5",
   "metadata": {},
   "outputs": [
    {
     "data": {
      "text/plain": [
       "(15414, 85, 11146)"
      ]
     },
     "execution_count": 51,
     "metadata": {},
     "output_type": "execute_result"
    }
   ],
   "source": [
    "isolates_size = sorted([len(iso) for iso in isolates], reverse=True)\n",
    "isolates_size[0], isolates_size[1], sum(isolates_size[2:])"
   ]
  },
  {
   "cell_type": "markdown",
   "id": "3ea55afc-e2ef-41c5-bc61-6c3b6b060ee6",
   "metadata": {},
   "source": [
    "So we have 1'923 isolated components. Of these, there is one giant component with 15'414 nodes (both mods and subs). Other components comprise at most 42 nodes. Overall, subreddits look well-connected.\n",
    "\n",
    "Interesting! Let's take a loot at a few largest component."
   ]
  },
  {
   "cell_type": "code",
   "execution_count": 63,
   "id": "e46278ab",
   "metadata": {},
   "outputs": [
    {
     "name": "stdout",
     "output_type": "stream",
     "text": [
      "Subreddits in isolate #2:\n",
      "\n",
      "['StartUpIndia',\n",
      " 'biggboss',\n",
      " 'Silverbugs',\n",
      " 'IndiaTax',\n",
      " 'BollyBlindsNGossip',\n",
      " 'unitedstatesofindia',\n",
      " 'Gold',\n",
      " 'AskIndia',\n",
      " 'indiasocial',\n",
      " 'bollywood',\n",
      " 'arcteryx']\n"
     ]
    }
   ],
   "source": [
    "idx_isolate = 1\n",
    "nodes_isolate = sorted(isolates, key=len, reverse=True)[idx_isolate]\n",
    "subs_all = {n for n, d in g.nodes(data=True) if d['bipartite'] != 0}\n",
    "subs_isolate = [n for n in nodes_isolate if n in subs_all]\n",
    "print(f\"Subreddits in isolate #{idx_isolate + 1}:\\n\")\n",
    "pprint(subs_isolate)"
   ]
  },
  {
   "cell_type": "code",
   "execution_count": 64,
   "id": "ad5b6a40",
   "metadata": {},
   "outputs": [
    {
     "name": "stdout",
     "output_type": "stream",
     "text": [
      "Subreddits in isolate #3:\n",
      "\n",
      "['KGBTR', 'Turkey']\n"
     ]
    }
   ],
   "source": [
    "idx_isolate = 2\n",
    "nodes_isolate = sorted(isolates, key=len, reverse=True)[idx_isolate]\n",
    "subs_all = {n for n, d in g.nodes(data=True) if d['bipartite'] != 0}\n",
    "subs_isolate = [n for n in nodes_isolate if n in subs_all]\n",
    "print(f\"Subreddits in isolate #{idx_isolate + 1}:\\n\")\n",
    "pprint(subs_isolate)"
   ]
  },
  {
   "cell_type": "markdown",
   "id": "06a1e485",
   "metadata": {},
   "source": [
    "The 2nd and 3rd largest isolated components are subs relating to India and Turkey, respectively."
   ]
  },
  {
   "cell_type": "markdown",
   "id": "696e5b28",
   "metadata": {},
   "source": [
    "## Computing Resistance Distance"
   ]
  },
  {
   "cell_type": "markdown",
   "id": "f077f333-c180-4fd2-93e1-95a0704927ac",
   "metadata": {},
   "source": [
    "My strategy is as follows. I will be using [Resistance Distance](https://en.wikipedia.org/wiki/Resistance_distance) to rank subs in order of relevance.\n",
    "\n",
    "However, computing the resistance distance is slow, so instead of running it on the whole graph, I will select a group of nodes around my subreddit of interest (aka the **locality**). I will then rank those candidates using the resistance distance as a metric."
   ]
  },
  {
   "cell_type": "code",
   "execution_count": 12,
   "id": "ef3bf52d-c5d6-48be-860d-d9ff86a81467",
   "metadata": {},
   "outputs": [],
   "source": [
    "def get_locality(path_lengths, s0, max_loc_size):\n",
    "    #increasing maximum path length from s0 to nodes until I reach my desired locality size\n",
    "    max_length = 0\n",
    "    curr_locality = [s0]\n",
    "    next_locality = [u for u in path_lengths if path_lengths[u] < max_length * 2]\n",
    "    \n",
    "    while len(next_locality) < max_loc_size and len(next_locality) < len(path_lengths):\n",
    "        max_length += 1\n",
    "        curr_locality = next_locality\n",
    "        next_locality = [u for u in path_lengths if path_lengths[u] < max_length * 2]\n",
    "\n",
    "    return curr_locality"
   ]
  },
  {
   "cell_type": "markdown",
   "id": "7d09d178-0500-4556-b642-1b581ccd8188",
   "metadata": {},
   "source": [
    "## Bipartite Graph"
   ]
  },
  {
   "cell_type": "markdown",
   "id": "061708cc-cccf-4f26-b5a9-106050a231e9",
   "metadata": {},
   "source": [
    "Let's explore an interesting subreddit called [r/hebrew](https://www.reddit.com/r/hebrew)."
   ]
  },
  {
   "cell_type": "code",
   "execution_count": 13,
   "id": "cf051fdd-44b3-4833-b83b-2573a598d56b",
   "metadata": {},
   "outputs": [],
   "source": [
    "s0 = 'hebrew'"
   ]
  },
  {
   "cell_type": "code",
   "execution_count": 14,
   "id": "2ae5ae5c-69e7-4eb6-9132-70a330f51d71",
   "metadata": {},
   "outputs": [],
   "source": [
    "path_lengths = nx.shortest_path_length(g, source=s0)\n",
    "locality = get_locality(path_lengths, s0, max_loc_size=5000)"
   ]
  },
  {
   "cell_type": "code",
   "execution_count": 15,
   "id": "2fbdee60-b666-4f60-b52d-d2b963ded934",
   "metadata": {},
   "outputs": [],
   "source": [
    "#a subgraph covering our locality\n",
    "g_local = g.subgraph(locality)"
   ]
  },
  {
   "cell_type": "code",
   "execution_count": 16,
   "id": "7d983395-bc4b-45d8-b9b1-993d4c9715e0",
   "metadata": {},
   "outputs": [
    {
     "name": "stdout",
     "output_type": "stream",
     "text": [
      "CPU times: user 1min 21s, sys: 22.9 s, total: 1min 44s\n",
      "Wall time: 15.5 s\n"
     ]
    }
   ],
   "source": [
    "%time res_dist = nx.resistance_distance(g_local, nodeA=s0, weight='conductivity')"
   ]
  },
  {
   "cell_type": "markdown",
   "id": "7f9c3d44-1abd-4d37-8d40-d58f78c30d05",
   "metadata": {},
   "source": [
    "Now let's select the nodes."
   ]
  },
  {
   "cell_type": "code",
   "execution_count": 17,
   "id": "56748c9d-7a4f-4f29-8138-ad5742dec44f",
   "metadata": {},
   "outputs": [],
   "source": [
    "mod_nodes = {n for n, d in g_local.nodes(data=True) if d[\"bipartite\"] == 0}\n",
    "sub_nodes = {n for n, d in g_local.nodes(data=True) if d[\"bipartite\"] == 1}"
   ]
  },
  {
   "cell_type": "markdown",
   "id": "a1e65fea-0b5b-4fc6-8379-2336c3f1b1f7",
   "metadata": {},
   "source": [
    "Because `sorted` is a stable sort, we can priorize nodes by degree of separation, while sort nodes within each \"shell\" using the resistance distance."
   ]
  },
  {
   "cell_type": "code",
   "execution_count": 18,
   "id": "4ca57734-5a98-42c5-a039-b39cab30d9ee",
   "metadata": {},
   "outputs": [],
   "source": [
    "candidate_subs = [k for k in res_dist.keys() if k in sub_nodes]\n",
    "#`sorted` is a stable sort\n",
    "candidate_subs = sorted(candidate_subs, key=res_dist.get)\n",
    "candidate_subs = sorted(candidate_subs, key=path_lengths.get)\n",
    "#keeping top-15\n",
    "candidate_subs = candidate_subs[:15]"
   ]
  },
  {
   "cell_type": "code",
   "execution_count": 19,
   "id": "7541922a-81f9-495f-ba34-38ddb496afe2",
   "metadata": {},
   "outputs": [],
   "source": [
    "candidate_mods = list()\n",
    "for mod in mod_nodes:\n",
    "    inter = set(g.neighbors(mod)) &  set(candidate_subs)\n",
    "    if len(inter) > 1:\n",
    "        candidate_mods.append(mod)"
   ]
  },
  {
   "cell_type": "markdown",
   "id": "3d0011df-e8fd-4ee7-b96c-106507407bcf",
   "metadata": {},
   "source": [
    "We next write out our graph and visualise it in Gephi."
   ]
  },
  {
   "cell_type": "code",
   "execution_count": 20,
   "id": "7f317bdf-8463-4e65-9618-674b39488e0d",
   "metadata": {},
   "outputs": [],
   "source": [
    "candidate_nodes = candidate_subs + candidate_mods\n",
    "nx.write_gexf(g_local.subgraph(candidate_nodes), 'example-bipartite.gexf')"
   ]
  },
  {
   "cell_type": "markdown",
   "id": "30839b24-51fe-40d6-bd38-c1f2d4e29393",
   "metadata": {},
   "source": [
    "The result:\n",
    "\n",
    "<div>\n",
    "<img src=\"example-bipartite.png\" width=\"700\"/>\n",
    "</div>"
   ]
  },
  {
   "cell_type": "markdown",
   "id": "bf6dfea4-71c7-47e8-a48b-eeff4ed80243",
   "metadata": {},
   "source": [
    "## Projected Graph"
   ]
  },
  {
   "cell_type": "markdown",
   "id": "7dc1a6dc-90ff-4cd9-aade-1d21104b831e",
   "metadata": {},
   "source": [
    "We can also project the bipartite graph, and display only subreddits, while omitting the mods."
   ]
  },
  {
   "cell_type": "code",
   "execution_count": 21,
   "id": "7cf32dd6-2d1a-4b28-b94c-a1c70f5becd4",
   "metadata": {},
   "outputs": [],
   "source": [
    "s0 = 'Palestine'\n",
    "\n",
    "path_lengths = nx.shortest_path_length(g, source=s0)\n",
    "locality = get_locality(path_lengths, s0, max_loc_size=5000)\n",
    "\n",
    "#a subgraph covering our locality\n",
    "g_local = g.subgraph(locality)\n",
    "\n",
    "mod_nodes = {n for n, d in g_local.nodes(data=True) if d[\"bipartite\"] == 0}\n",
    "sub_nodes = {n for n, d in g_local.nodes(data=True) if d[\"bipartite\"] == 1}"
   ]
  },
  {
   "cell_type": "code",
   "execution_count": 22,
   "id": "10ba7115-0799-41ce-bd34-223f7163507f",
   "metadata": {},
   "outputs": [
    {
     "name": "stdout",
     "output_type": "stream",
     "text": [
      "CPU times: user 18.2 s, sys: 7.19 s, total: 25.4 s\n",
      "Wall time: 4.13 s\n"
     ]
    }
   ],
   "source": [
    "%time res_dist = nx.resistance_distance(g_local, nodeA=s0, weight='conductivity')"
   ]
  },
  {
   "cell_type": "code",
   "execution_count": 23,
   "id": "e7a71d08-9de9-4a55-802c-13a82ae8ba25",
   "metadata": {},
   "outputs": [],
   "source": [
    "candidate_subs = [k for k in res_dist.keys() if k in sub_nodes]\n",
    "#`sorted` is a stable sort\n",
    "candidate_subs = sorted(candidate_subs, key=res_dist.get)\n",
    "candidate_subs = sorted(candidate_subs, key=path_lengths.get)\n",
    "#keeping top-30\n",
    "candidate_subs = candidate_subs[:30]"
   ]
  },
  {
   "cell_type": "code",
   "execution_count": 24,
   "id": "a9fd5711-ca3c-47f6-88e3-4ee8ea9f2387",
   "metadata": {},
   "outputs": [],
   "source": [
    "#projecting graph onto subreddits\n",
    "g_local_subs = bipartite.weighted_projected_graph(g_local, sub_nodes)"
   ]
  },
  {
   "cell_type": "code",
   "execution_count": 25,
   "id": "d361523f-c4d9-4355-be9c-e4c54e0da41a",
   "metadata": {},
   "outputs": [],
   "source": [
    "nx.write_gexf(g_local_subs.subgraph(candidate_subs), 'example-projected.gexf')"
   ]
  },
  {
   "cell_type": "markdown",
   "id": "60144e07-8330-4dc0-ac9e-9b94f2281043",
   "metadata": {},
   "source": [
    "The result, visualised in Gephi:\n",
    "\n",
    "* The more members there are in a subreddit, the larger the node\n",
    "* Nodes are coloured by the degree of separation from `s0`: 0 is red, 1 is pink, 2 is blue\n",
    "\n",
    "<div>\n",
    "<img src=\"example-projected.png\" width=\"800\"/>\n",
    "</div>"
   ]
  },
  {
   "cell_type": "code",
   "execution_count": null,
   "id": "00ffb29d-92b7-48c9-8103-93e92e3bf8f3",
   "metadata": {},
   "outputs": [],
   "source": []
  }
 ],
 "metadata": {
  "kernelspec": {
   "display_name": "Python 3 (ipykernel)",
   "language": "python",
   "name": "python3"
  },
  "language_info": {
   "codemirror_mode": {
    "name": "ipython",
    "version": 3
   },
   "file_extension": ".py",
   "mimetype": "text/x-python",
   "name": "python",
   "nbconvert_exporter": "python",
   "pygments_lexer": "ipython3",
   "version": "3.10.15"
  },
  "toc": {
   "base_numbering": 1,
   "nav_menu": {},
   "number_sections": true,
   "sideBar": true,
   "skip_h1_title": false,
   "title_cell": "Table of Contents",
   "title_sidebar": "Contents",
   "toc_cell": false,
   "toc_position": {},
   "toc_section_display": true,
   "toc_window_display": false
  }
 },
 "nbformat": 4,
 "nbformat_minor": 5
}
