{
 "cells": [
  {
   "cell_type": "markdown",
   "id": "9098692f",
   "metadata": {},
   "source": [
    "_All data was collected on 05-07 October 2024._"
   ]
  },
  {
   "cell_type": "code",
   "execution_count": 29,
   "id": "739e0b40-92eb-4c10-b49f-5e436f82a8df",
   "metadata": {},
   "outputs": [],
   "source": [
    "import hashlib\n",
    "import logging\n",
    "import os\n",
    "import shutil\n",
    "import string\n",
    "import sqlite3\n",
    "import time\n",
    "import random\n",
    "import re\n",
    "import requests\n",
    "from collections import defaultdict\n",
    "\n",
    "import networkx as nx\n",
    "import praw\n",
    "import pandas as pd\n",
    "import tqdm.notebook as tqdm_notebook\n",
    "import tqdm.contrib.telegram as tqdm_telegram\n",
    "from selenium import webdriver #also need a standalone chromedriver executable\n",
    "from dotenv import load_dotenv\n",
    "from matplotlib_venn import venn2\n",
    "from pprint import pprint"
   ]
  },
  {
   "cell_type": "code",
   "execution_count": 2,
   "id": "e1544589-ba2b-4381-a65f-95ebba75fe84",
   "metadata": {},
   "outputs": [],
   "source": [
    "logging.basicConfig(level=logging.INFO, filename='run.log', format='%(asctime)s %(levelname)-8s %(message)s')\n",
    "load_dotenv(); #loading environmental variables from .env"
   ]
  },
  {
   "cell_type": "code",
   "execution_count": 3,
   "id": "eb77df42",
   "metadata": {},
   "outputs": [],
   "source": [
    "def notify(title, message):\n",
    "    #send a Telegram message using noti\n",
    "    #https://github.com/variadico/noti\n",
    "    if shutil.which(\"noti\"):\n",
    "        os.system(\"noti -g -t '%s' -m '%s'\" % (title, message))"
   ]
  },
  {
   "cell_type": "code",
   "execution_count": 15,
   "id": "467ea12f-d3a6-4020-b2aa-3507023841f4",
   "metadata": {},
   "outputs": [],
   "source": [
    "def tqdm(*args, **kwargs):\n",
    "    #override tqdm to provide Telegram updates if ENV has necessary info\n",
    "    #https://tqdm.github.io/docs/contrib.telegram/\n",
    "    if os.environ.get('TG_TOKEN') and os.environ.get('TG_CHAT_ID'):\n",
    "        return tqdm_telegram.tqdm(\n",
    "            *args, **kwargs,\n",
    "            token=os.environ.get('TG_TOKEN'), \n",
    "            chat_id=os.environ.get('TG_CHAT_ID'),\n",
    "            mininterval=4 #TG rate limits are 20 messages per min\n",
    "    )\n",
    "    else:\n",
    "        return tqdm_notebook.tqdm(*args, **kwargs)\n",
    "                                    "
   ]
  },
  {
   "cell_type": "markdown",
   "id": "de484444",
   "metadata": {},
   "source": [
    "# Getting list of subreddits"
   ]
  },
  {
   "cell_type": "markdown",
   "id": "6f0f56b7-b5a8-4077-9aaf-87c0aeda57a5",
   "metadata": {},
   "source": [
    "There are two Reddit lists that list best/popular communities:\n",
    "* www.reddit.com/best/communities/1/\n",
    "* www.reddit.com/subreddits/\n",
    "\n",
    "The first one is endless and doesn't include many known popular communities. The reason is probably that Reddit doesn't want to suggest NSFW or controversial communities to new users or advertisers. Some examples of missing subs:\n",
    "* `r/iamatotalpieceofshit`\n",
    "* `r/therewasanattempt`\n",
    "* `r/illusions`\n",
    "* `r/Palestine`\n",
    "* `r/PublicFreakout`\n",
    "* `r/CombatFootage`\n",
    "* `r/FUCKYOUINPARTICULAR`\n",
    "* `r/IsItBullshit`\n",
    "* `r/IdiotsFightingThings`\n",
    "* `r/JordanPeterson`\n",
    "* `r/MensRights`\n",
    "* `r/OneSecondBeforeDisast`\n",
    "* `r/TIHI`\n",
    "* `r/ThatsInsane`\n",
    "* `r/TrueUnpopularOpinion`\n",
    "* `r/Wellthatsucks`\n",
    "* `r/Whatcouldgowrong`\n",
    "* `r/cringe`\n",
    "* `r/sex`\n",
    "* `r/stupidquestions`\n",
    "\n",
    "Therefore, I decided to use www.reddit.com/subreddits/ only. It's a list of 4387 subreddits."
   ]
  },
  {
   "cell_type": "markdown",
   "id": "a0a7dff4",
   "metadata": {},
   "source": [
    "##  Getting most popular subreddits from www.reddit.com/subreddits/"
   ]
  },
  {
   "cell_type": "code",
   "execution_count": null,
   "id": "fe6f672a",
   "metadata": {},
   "outputs": [],
   "source": [
    "#Old Reddit blocks non-browser requests, so I've got to use Selenium\n",
    "pop_subs = set()\n",
    "with open(\"popular-subreddits.txt\", \"w\") as out:\n",
    "    url = \"https://www.reddit.com/subreddits\"\n",
    "    regex_subs = re.compile(r'class=\"titlerow\"><a href=\"https://www.reddit.com/r/([^\"]+)/\"')\n",
    "    regex_next = re.compile(r'<span class=\"next-button\">\\s*<a href=\"([^\"]*)')\n",
    "    driver = webdriver.Chrome()\n",
    "\n",
    "    while True:\n",
    "        attempts = 0\n",
    "        matches = None\n",
    "        while not matches and attempts < 5:\n",
    "            driver.get(url)\n",
    "            source = driver.page_source\n",
    "            next_subs = regex_subs.findall(source)\n",
    "            matches = regex_next.findall(source)\n",
    "            time.sleep(5 + 5 * attempts)\n",
    "            attempts += 1\n",
    "\n",
    "        if next_subs:\n",
    "            next_subs = [s for s in next_subs if s] #removing empty strings\n",
    "            pop_subs |= set(next_subs)\n",
    "        \n",
    "        print(f\"Processed {url}, {len(next_subs)} subs\")\n",
    "        if not matches:\n",
    "            break #reached end of list\n",
    "\n",
    "        [url] = matches\n",
    "        out.flush()\n",
    "        time.sleep(5)\n",
    "\n",
    "print(f\"Compiled popular-communities.txt ({len(pop_subs)} subs)\")\n",
    "notify(\"reddit-mods-ds\", f\"Compiled popular-communities.txt ({len(pop_subs)} subs)\")"
   ]
  },
  {
   "cell_type": "code",
   "execution_count": 37,
   "id": "1e244dd0-dfb2-4848-9476-17303793aa30",
   "metadata": {},
   "outputs": [
    {
     "data": {
      "text/plain": [
       "4386"
      ]
     },
     "execution_count": 37,
     "metadata": {},
     "output_type": "execute_result"
    }
   ],
   "source": [
    "len(pop_subs)"
   ]
  },
  {
   "cell_type": "code",
   "execution_count": 25,
   "id": "83c29943-f7dd-4fef-bb6b-5f8baf8dbfae",
   "metadata": {},
   "outputs": [],
   "source": [
    "with open('popular-subreddits.txt', 'w') as f:\n",
    "    f.write('\\n'.join())"
   ]
  },
  {
   "cell_type": "markdown",
   "id": "0cb2fc6b-358d-44a8-abce-eeabe0869b28",
   "metadata": {},
   "source": [
    "# Inspecting subreddits"
   ]
  },
  {
   "cell_type": "markdown",
   "id": "6436ac8f",
   "metadata": {},
   "source": [
    "To increase speed, I will be using two different Reddit accounts. I have authorized a `script` application for each of them on www.reddit.com/prefs/apps."
   ]
  },
  {
   "cell_type": "markdown",
   "id": "4994f42a-974b-4aed-842a-373f97ca79a5",
   "metadata": {},
   "source": [
    "I will be using the schema\n",
    "![](schema.png)"
   ]
  },
  {
   "cell_type": "code",
   "execution_count": 5,
   "id": "2192313b-5079-4a34-b750-ca1a54e6705e",
   "metadata": {},
   "outputs": [],
   "source": [
    "class DBFactory:\n",
    "\n",
    "    db = None\n",
    "\n",
    "    def __call__(self):\n",
    "        # DBFactory.db = DBFactory.db or sqlite3.connect('db.sqlite3')\n",
    "        DBFactory.db = sqlite3.connect('db.sqlite3')\n",
    "        self.create_tables()\n",
    "        self.init_tables()\n",
    "        return self.db\n",
    "\n",
    "    \n",
    "    def create_tables(self):\n",
    "        cursor = self.db.cursor()\n",
    "        cursor.execute('''\n",
    "            CREATE TABLE IF NOT EXISTS subs(\n",
    "                name TEXT PRIMARY KEY,\n",
    "                nsubscr INTEGER,\n",
    "                processed BOOLEAN DEFAULT 0\n",
    "            )\n",
    "        ''')\n",
    "        cursor.execute('''\n",
    "            CREATE TABLE IF NOT EXISTS mods(\n",
    "                mod TEXT,\n",
    "                sub TEXT,\n",
    "                PRIMARY KEY (mod, sub)\n",
    "            )\n",
    "        ''')\n",
    "        cursor.execute('''\n",
    "            CREATE TABLE IF NOT EXISTS users(\n",
    "                name TEXT PRIMARY KEY,\n",
    "                is_bot BOOLEAN,\n",
    "                is_suspended BOOLEAN,\n",
    "                last_active INTEGER,\n",
    "                last_comment TEXT,\n",
    "                processed BOOLEAN DEFAULT 0\n",
    "            )\n",
    "        ''')\n",
    "        self.db.commit()\n",
    "        cursor.close()\n",
    "\n",
    "    def init_tables(self):\n",
    "        cursor = self.db.cursor()\n",
    "        self.db.commit()\n",
    "        cursor.close()\n",
    "        "
   ]
  },
  {
   "cell_type": "code",
   "execution_count": 6,
   "id": "08356d68-7da4-4211-bbd6-f47284da8cf1",
   "metadata": {},
   "outputs": [],
   "source": [
    "class SubInspector:\n",
    "    \n",
    "    def __init__(self, reddit):\n",
    "        self.reddit = reddit\n",
    "        self.db = DBFactory()()\n",
    "        self.cursor = self.db.cursor()\n",
    "\n",
    "    \n",
    "    def inspect(self, *, sub_name=None):        \n",
    "        self.cursor.execute(\"SELECT name FROM subs WHERE name=? AND processed=1\", (sub_name,))\n",
    "        if self.cursor.fetchone():\n",
    "            return 0 #sub already processed\n",
    "            \n",
    "        sub = self.reddit.subreddit(sub_name)\n",
    "        self.cursor.execute(\"INSERT OR IGNORE INTO subs(name, nsubscr) VALUES(?,?)\", (sub.display_name, sub.subscribers))\n",
    "        for mod in sub.moderator():\n",
    "            self.cursor.execute(\"INSERT OR IGNORE INTO mods(mod, sub) VALUES(?,?)\", (mod.name, sub.display_name))\n",
    "            self.cursor.execute(\"INSERT OR IGNORE INTO users(name) VALUES(?)\", (mod.name,))\n",
    "\n",
    "        self.cursor.execute(\"UPDATE subs SET processed = 1 WHERE name = ?\", (sub.display_name,))\n",
    "        self.db.commit()\n",
    "\n",
    "        logging.info(f'Inspected sub {sub.display_name}')\n",
    "        return 1 #sub is new\n",
    "\n",
    "\n",
    "    def set_reddit(self, reddit):\n",
    "        self.reddit = reddit\n",
    "\n",
    "    \n",
    "    def __del__(self):\n",
    "        self.cursor.close()\n",
    "            "
   ]
  },
  {
   "cell_type": "code",
   "execution_count": 33,
   "id": "dbaa0211-903c-43b9-8251-815287c8450a",
   "metadata": {},
   "outputs": [],
   "source": [
    "reddit1 = praw.Reddit(\n",
    "    client_id=os.getenv(\"CLIENT_ID_1\"),\n",
    "    client_secret=os.getenv(\"CLIENT_SECRET_1\"),\n",
    "    user_agent=os.getenv(\"USER_AGENT_1\"),\n",
    "    username=os.getenv(\"USER_NAME_1\"),\n",
    "    password=os.getenv(\"USER_PASS_1\")\n",
    ")\n",
    "\n",
    "reddit2 = praw.Reddit(\n",
    "    client_id=os.getenv(\"CLIENT_ID_2\"),\n",
    "    client_secret=os.getenv(\"CLIENT_SECRET_2\"),\n",
    "    user_agent=os.getenv(\"USER_AGENT_2\"),\n",
    "    username=os.getenv(\"USER_NAME_2\"),\n",
    "    password=os.getenv(\"USER_PASS_2\")\n",
    ")"
   ]
  },
  {
   "cell_type": "code",
   "execution_count": 36,
   "id": "012d49db-59e7-4a2d-89c7-8498df43d088",
   "metadata": {},
   "outputs": [
    {
     "data": {
      "application/vnd.jupyter.widget-view+json": {
       "model_id": "d07e8db02bd14ff79fead04f55ede066",
       "version_major": 2,
       "version_minor": 0
      },
      "text/plain": [
       "  0%|          | 0/4386 [00:00<?, ?it/s]"
      ]
     },
     "metadata": {},
     "output_type": "display_data"
    }
   ],
   "source": [
    "with open('popular-subreddits.txt', 'r') as f:\n",
    "    pop_subs = [s.strip() for s in f.readlines()]\n",
    "\n",
    "inspector = SubInspector(reddit1)\n",
    "npr = 0\n",
    "\n",
    "for sub_name in tqdm(pop_subs, desc=\"reddit-mods-db (subs)\"):    \n",
    "    if inspector.inspect(sub_name=sub_name):\n",
    "        npr += 1\n",
    "        time.sleep(0.5)\n",
    "\n",
    "    #magic to overcome Reddit's ratelimits\n",
    "    if npr and npr % 25 == 0:\n",
    "        inspector.set_reddit(reddit2 if inspector.reddit is reddit1 else reddit1)\n",
    "    if npr and npr % 50 == 0:\n",
    "        time.sleep(10) \n",
    "    if npr and npr % 500 == 0:\n",
    "        time.sleep(10)\n",
    "    if npr and npr % 1000 == 0:\n",
    "        time.sleep(10)\n",
    "\n",
    "notify(\"reddit-mod-db\", f\"Done processing all {len(pop_subs)} popular subs!\") "
   ]
  },
  {
   "cell_type": "markdown",
   "id": "dad16398-b51d-4c17-af9e-8f46bae6fd0c",
   "metadata": {},
   "source": [
    "# Inspecting moderators"
   ]
  },
  {
   "cell_type": "markdown",
   "id": "7536fc1b-06d0-42f8-b5b8-8987b273d99b",
   "metadata": {},
   "source": [
    "Let's inspect moderators to weed out bots and those who have been inactive for a long time."
   ]
  },
  {
   "cell_type": "code",
   "execution_count": 7,
   "id": "9fd606b2-597c-4e08-84d4-56c73475a461",
   "metadata": {},
   "outputs": [],
   "source": [
    "class UserInspector:\n",
    "    \n",
    "    def __init__(self, reddit):\n",
    "        self.reddit = reddit\n",
    "        self.db = DBFactory()()\n",
    "        self.cursor = self.db.cursor()\n",
    "\n",
    "    \n",
    "    def inspect(self, *, user_name=None):        \n",
    "        self.cursor.execute(\"SELECT name FROM users WHERE name=? AND processed=1\", (user_name,))\n",
    "        if self.cursor.fetchone():\n",
    "            return 0 #user already processed\n",
    "            \n",
    "        user = self.reddit.redditor(user_name)\n",
    "        \n",
    "        try:\n",
    "            is_suspended = hasattr(user, \"is_suspended\")\n",
    "        except:\n",
    "            is_suspended = True    \n",
    "        if is_suspended:\n",
    "            logging.info(f'Found suspended user {user_name}')\n",
    "            self.cursor.execute(\"UPDATE users SET is_suspended=1,processed=1 WHERE name=?\", (user_name,))\n",
    "            self.db.commit()\n",
    "            return 1\n",
    "\n",
    "        last_post = next(user.submissions.new(), None)\n",
    "        last_comment = next(user.comments.new(), None)\n",
    "        last_comment_body = last_comment.body if last_comment else None\n",
    "\n",
    "        if last_post:\n",
    "            last_active = max(last_post.created, last_comment.created) if last_comment else last_post.created\n",
    "        else:\n",
    "            last_active = last_comment.created if last_comment else None\n",
    "        if last_active:\n",
    "            last_active = int(last_active)\n",
    "\n",
    "        is_bot = self.is_bot(user_name, last_comment_body)\n",
    "        if is_bot:\n",
    "            logging.info(f'Identified user {user_name} as bot')\n",
    "\n",
    "        self.cursor.execute(\n",
    "            \"UPDATE users SET is_suspended=0,processed=1,last_active=?,last_comment=?,is_bot=? WHERE name=?\",\n",
    "            (last_active, last_comment_body, is_bot, user_name)\n",
    "        )\n",
    "        \n",
    "        self.db.commit()\n",
    "        logging.info(f'Inspected user {user_name}')\n",
    "        return 1\n",
    "\n",
    "\n",
    "    def get_user_list(self, only_unprocessed=True):\n",
    "        if only_unprocessed:\n",
    "            self.cursor.execute(\"SELECT name FROM users WHERE processed=0\")\n",
    "        else:\n",
    "            self.cursor.execute(\"SELECT name FROM users\")\n",
    "        return [r[0] for r in self.cursor.fetchall()]\n",
    "\n",
    "        \n",
    "    def set_reddit(self, reddit):\n",
    "        self.reddit = reddit\n",
    "\n",
    "\n",
    "    def is_bot(user_name, last_comment):\n",
    "        #let's look at the user_name\n",
    "        if re.search(\"[Bb][Oo][Tt][\\W\\d]*$\", user_name):\n",
    "            return True\n",
    "        if re.search(\"[\\-_][Bb][Oo][Tt][\\-_]\", user_name):\n",
    "            return True\n",
    "        if re.search(\"[\\W\\d][Bb][Oo][Tt][A-Z\\d\\-_]\", user_name):\n",
    "            return True\n",
    "        if re.search(\"[Bb][Oo][Tt]\\W+$\", user_name):\n",
    "            return True\n",
    "        if re.search(\"^[Bb][Oo][Tt][A-Z0-9\\-_]\", user_name):\n",
    "            return True\n",
    "        #now let's use the last comment by the user\n",
    "        if not last_comment:\n",
    "            return False\n",
    "        last_comment = last_comment.lower().strip(string.punctuation)\n",
    "        if re.search(r'i(\\'m| am) a bot', last_comment):\n",
    "            return True\n",
    "        if re.search(r'this\\s\\w*\\s(was|has been)?\\s?\\w+\\sby a bot', last_comment):\n",
    "            #this was left by a bot\n",
    "            #this comment was made by a bot\n",
    "            #this message has been posted by a bot\n",
    "            #etc\n",
    "            return True\n",
    "        return False\n",
    "        \n",
    "\n",
    "    def __del__(self):\n",
    "        self.cursor.close()\n",
    "            "
   ]
  },
  {
   "cell_type": "code",
   "execution_count": 8,
   "id": "d8d836ef-db7b-42a5-9a3e-326c9fd7a4a5",
   "metadata": {},
   "outputs": [],
   "source": [
    "reddit1 = praw.Reddit(\n",
    "    client_id=os.getenv(\"CLIENT_ID_1\"),\n",
    "    client_secret=os.getenv(\"CLIENT_SECRET_1\"),\n",
    "    user_agent=os.getenv(\"USER_AGENT_1\"),\n",
    "    username=os.getenv(\"USER_NAME_1\"),\n",
    "    password=os.getenv(\"USER_PASS_1\")\n",
    ")\n",
    "\n",
    "reddit2 = praw.Reddit(\n",
    "    client_id=os.getenv(\"CLIENT_ID_2\"),\n",
    "    client_secret=os.getenv(\"CLIENT_SECRET_2\"),\n",
    "    user_agent=os.getenv(\"USER_AGENT_2\"),\n",
    "    username=os.getenv(\"USER_NAME_2\"),\n",
    "    password=os.getenv(\"USER_PASS_2\")\n",
    ")"
   ]
  },
  {
   "cell_type": "code",
   "execution_count": 19,
   "id": "a1be5385-cd85-445f-9227-54f972db68e3",
   "metadata": {},
   "outputs": [
    {
     "data": {
      "application/vnd.jupyter.widget-view+json": {
       "model_id": "b5a197f98f504416be9e893313a7970f",
       "version_major": 2,
       "version_minor": 0
      },
      "text/plain": [
       "reddit-mod-db (users):   0%|          | 0/1388 [00:00<?, ?it/s]"
      ]
     },
     "metadata": {},
     "output_type": "display_data"
    }
   ],
   "source": [
    "inspector = UserInspector(reddit2)\n",
    "users = inspector.get_user_list()\n",
    "npr = 0\n",
    "\n",
    "for user_name in tqdm(users, desc=\"reddit-mod-db (users)\"):\n",
    "    if inspector.inspect(user_name=user_name):\n",
    "        npr += 1\n",
    "        time.sleep(0.5)\n",
    "\n",
    "    #magic to overcome Reddit's ratelimits\n",
    "    if npr and npr % 25 == 0:\n",
    "        inspector.set_reddit(reddit2 if inspector.reddit is reddit1 else reddit1)\n",
    "    if npr and npr % 50 == 0:\n",
    "        time.sleep(10)\n",
    "    if npr and npr % 500 == 0:\n",
    "        time.sleep(10)\n",
    "    if npr and npr % 1000 == 0:\n",
    "        time.sleep(10)\n",
    "\n",
    "notify(\"reddit-mod-db\", f\"Done processing all {len(users)} users!\") "
   ]
  },
  {
   "cell_type": "markdown",
   "id": "5ae4a495",
   "metadata": {},
   "source": [
    "# Writing output "
   ]
  },
  {
   "cell_type": "markdown",
   "id": "37558719",
   "metadata": {},
   "source": [
    "## Pooling data"
   ]
  },
  {
   "cell_type": "code",
   "execution_count": 80,
   "id": "7b36976f",
   "metadata": {},
   "outputs": [],
   "source": [
    "db = DBFactory()()\n",
    "cursor = db.cursor()"
   ]
  },
  {
   "cell_type": "markdown",
   "id": "8aa5245d-03b5-4c16-b276-d3e09326907f",
   "metadata": {},
   "source": [
    "Usernames are personal data, and can potentially be used to identify the individual. We will encode all moderator usernames by hashing them with SHA256."
   ]
  },
  {
   "cell_type": "code",
   "execution_count": 84,
   "id": "46d23813-0b77-4a97-8139-0531b8a955b5",
   "metadata": {},
   "outputs": [],
   "source": [
    "sha256_enc = lambda x: hashlib.sha256(x.encode()).hexdigest()"
   ]
  },
  {
   "cell_type": "code",
   "execution_count": 81,
   "id": "203b79c6",
   "metadata": {},
   "outputs": [
    {
     "data": {
      "application/vnd.jupyter.widget-view+json": {
       "model_id": "11bb35a879d24ccf803bf74487512e54",
       "version_major": 2,
       "version_minor": 0
      },
      "text/plain": [
       "  0%|          | 0/4386 [00:00<?, ?it/s]"
      ]
     },
     "metadata": {},
     "output_type": "display_data"
    }
   ],
   "source": [
    "with open('../subreddits.csv', 'w') as f:\n",
    "    f.write('name,n_members\\n')\n",
    "    cursor.execute(\"\"\"\n",
    "        SELECT name, nsubscr FROM subs ORDER BY nsubscr DESC;\n",
    "    \"\"\")\n",
    "    for name, n_members in tqdm(cursor.fetchall()):\n",
    "        f.write(f'{name},{n_members}\\n')"
   ]
  },
  {
   "cell_type": "code",
   "execution_count": 85,
   "id": "bb6bd765",
   "metadata": {},
   "outputs": [
    {
     "data": {
      "application/vnd.jupyter.widget-view+json": {
       "model_id": "1a7636a253374cda8ae73c7e562d817b",
       "version_major": 2,
       "version_minor": 0
      },
      "text/plain": [
       "  0%|          | 0/43563 [00:00<?, ?it/s]"
      ]
     },
     "metadata": {},
     "output_type": "display_data"
    }
   ],
   "source": [
    "with open('../moderators.csv', 'w') as f:\n",
    "    f.write(',username,subreddit\\n')\n",
    "    cursor.execute(\"\"\"\n",
    "        SELECT mods.mod, mods.sub FROM mods LEFT JOIN subs ON mods.sub = subs.name ORDER BY subs.nsubscr DESC;\n",
    "    \"\"\")\n",
    "    for i, (moderator, subreddit) in enumerate(tqdm(cursor.fetchall()), 1):\n",
    "        f.write(f'{i},{sha256_enc(moderator)},{subreddit}\\n')"
   ]
  },
  {
   "cell_type": "code",
   "execution_count": 87,
   "id": "d0d9f9f5",
   "metadata": {},
   "outputs": [
    {
     "data": {
      "application/vnd.jupyter.widget-view+json": {
       "model_id": "931e718d227742c38e6218a8f79da0f4",
       "version_major": 2,
       "version_minor": 0
      },
      "text/plain": [
       "  0%|          | 0/30943 [00:00<?, ?it/s]"
      ]
     },
     "metadata": {},
     "output_type": "display_data"
    }
   ],
   "source": [
    "with open('../users.csv', 'w') as f:\n",
    "    f.write('username,is_suspended,is_bot,last_active\\n')\n",
    "    cursor.execute(\"\"\"\n",
    "        SELECT name, is_suspended, is_bot, last_active FROM users;\n",
    "    \"\"\")\n",
    "    for (name, is_suspended, is_bot, last_active) in tqdm(cursor.fetchall()):\n",
    "        f.write(f'{sha256_enc(name)},{is_suspended},{is_bot},{last_active}\\n')"
   ]
  },
  {
   "cell_type": "markdown",
   "id": "e3ecb435",
   "metadata": {},
   "source": [
    "## Writing graph "
   ]
  },
  {
   "cell_type": "code",
   "execution_count": 98,
   "id": "4a99396a",
   "metadata": {},
   "outputs": [],
   "source": [
    "df_subs = pd.read_csv('../subreddits.csv')\n",
    "df_users = pd.read_csv('../users.csv')\n",
    "df_mods = pd.read_csv('../moderators.csv', index_col=0)"
   ]
  },
  {
   "cell_type": "code",
   "execution_count": 99,
   "id": "6c0f57b5-8b19-4946-b122-466b6c602ed4",
   "metadata": {},
   "outputs": [
    {
     "data": {
      "text/html": [
       "<div>\n",
       "<style scoped>\n",
       "    .dataframe tbody tr th:only-of-type {\n",
       "        vertical-align: middle;\n",
       "    }\n",
       "\n",
       "    .dataframe tbody tr th {\n",
       "        vertical-align: top;\n",
       "    }\n",
       "\n",
       "    .dataframe thead th {\n",
       "        text-align: right;\n",
       "    }\n",
       "</style>\n",
       "<table border=\"1\" class=\"dataframe\">\n",
       "  <thead>\n",
       "    <tr style=\"text-align: right;\">\n",
       "      <th></th>\n",
       "      <th>name</th>\n",
       "      <th>n_members</th>\n",
       "    </tr>\n",
       "  </thead>\n",
       "  <tbody>\n",
       "    <tr>\n",
       "      <th>0</th>\n",
       "      <td>announcements</td>\n",
       "      <td>307637503</td>\n",
       "    </tr>\n",
       "    <tr>\n",
       "      <th>1</th>\n",
       "      <td>funny</td>\n",
       "      <td>63920084</td>\n",
       "    </tr>\n",
       "    <tr>\n",
       "      <th>2</th>\n",
       "      <td>AskReddit</td>\n",
       "      <td>48597308</td>\n",
       "    </tr>\n",
       "    <tr>\n",
       "      <th>3</th>\n",
       "      <td>gaming</td>\n",
       "      <td>43603831</td>\n",
       "    </tr>\n",
       "    <tr>\n",
       "      <th>4</th>\n",
       "      <td>worldnews</td>\n",
       "      <td>41113833</td>\n",
       "    </tr>\n",
       "  </tbody>\n",
       "</table>\n",
       "</div>"
      ],
      "text/plain": [
       "            name  n_members\n",
       "0  announcements  307637503\n",
       "1          funny   63920084\n",
       "2      AskReddit   48597308\n",
       "3         gaming   43603831\n",
       "4      worldnews   41113833"
      ]
     },
     "execution_count": 99,
     "metadata": {},
     "output_type": "execute_result"
    }
   ],
   "source": [
    "df_subs.head()"
   ]
  },
  {
   "cell_type": "markdown",
   "id": "a7f7fa84-ffd4-4aa1-b068-5d9e46e9f181",
   "metadata": {},
   "source": [
    "Writing as a bipartite graph, where both mods and subs are nodes."
   ]
  },
  {
   "cell_type": "code",
   "execution_count": 105,
   "id": "e32ff733-904e-43eb-8e48-de65d47d15ae",
   "metadata": {},
   "outputs": [],
   "source": [
    "g = nx.Graph()\n",
    "for user, prop in df_users.iterrows():\n",
    "    g.add_node(user, is_suspended=prop['is_suspended'], is_bot=prop['is_bot'], last_active=prop['last_active'], bipartite=0)\n",
    "for sub, prop in df_subs.iterrows():\n",
    "    g.add_node(sub, size=prop['n_members'], bipartite=1)\n",
    "\n",
    "g.add_edges_from([tuple(row) for row in df_mods[['username', 'subreddit']].values])\n",
    "nx.write_gexf(g, '../graph.gexf')"
   ]
  },
  {
   "cell_type": "code",
   "execution_count": null,
   "id": "b0b3b7eb-89ca-45e1-b302-3fbfa8a379b2",
   "metadata": {},
   "outputs": [],
   "source": []
  }
 ],
 "metadata": {
  "kernelspec": {
   "display_name": "Python 3 (ipykernel)",
   "language": "python",
   "name": "python3"
  },
  "language_info": {
   "codemirror_mode": {
    "name": "ipython",
    "version": 3
   },
   "file_extension": ".py",
   "mimetype": "text/x-python",
   "name": "python",
   "nbconvert_exporter": "python",
   "pygments_lexer": "ipython3",
   "version": "3.10.15"
  },
  "toc": {
   "base_numbering": 1,
   "nav_menu": {},
   "number_sections": true,
   "sideBar": true,
   "skip_h1_title": false,
   "title_cell": "Table of Contents",
   "title_sidebar": "Contents",
   "toc_cell": false,
   "toc_position": {},
   "toc_section_display": true,
   "toc_window_display": false
  }
 },
 "nbformat": 4,
 "nbformat_minor": 5
}
