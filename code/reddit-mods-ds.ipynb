{
 "cells": [
  {
   "cell_type": "markdown",
   "id": "9098692f",
   "metadata": {},
   "source": [
    "_All data was collected on 05 October 2024._"
   ]
  },
  {
   "cell_type": "code",
   "execution_count": 1,
   "id": "739e0b40-92eb-4c10-b49f-5e436f82a8df",
   "metadata": {},
   "outputs": [],
   "source": [
    "import hashlib\n",
    "import logging\n",
    "import os\n",
    "import shutil\n",
    "import sqlite3\n",
    "import time\n",
    "import random\n",
    "import re\n",
    "import requests\n",
    "from collections import defaultdict\n",
    "\n",
    "import networkx as nx\n",
    "import praw\n",
    "import pandas as pd\n",
    "from selenium import webdriver #also need a standalone chromedriver executable\n",
    "from tqdm.notebook import tqdm, trange\n",
    "from dotenv import load_dotenv\n",
    "from matplotlib_venn import venn2\n",
    "from pprint import pprint"
   ]
  },
  {
   "cell_type": "code",
   "execution_count": 2,
   "id": "e1544589-ba2b-4381-a65f-95ebba75fe84",
   "metadata": {},
   "outputs": [],
   "source": [
    "logging.basicConfig(level=logging.INFO)\n",
    "load_dotenv(); #loading environmental variables from .env"
   ]
  },
  {
   "cell_type": "code",
   "execution_count": 3,
   "id": "eb77df42",
   "metadata": {},
   "outputs": [],
   "source": [
    "def notify(title, message):\n",
    "    #Send a Telegram message using noti\n",
    "    #https://github.com/variadico/noti\n",
    "    if shutil.which(\"noti\"):\n",
    "        os.system(\"noti -g -t '%s' -m '%s'\" % (title, message))"
   ]
  },
  {
   "cell_type": "markdown",
   "id": "de484444",
   "metadata": {},
   "source": [
    "# Getting list of subreddits"
   ]
  },
  {
   "cell_type": "markdown",
   "id": "6f0f56b7-b5a8-4077-9aaf-87c0aeda57a5",
   "metadata": {},
   "source": [
    "There are two Reddit lists that list best/popular communities:\n",
    "* www.reddit.com/best/communities/1/\n",
    "* www.reddit.com/subreddits/\n",
    "\n",
    "The first one is endless and doesn't include many known popular communities. The reason is probably that Reddit doesn't want to suggest NSFW or controversial communities to new users or advertisers. Some examples of missing subs:\n",
    "* `r/iamatotalpieceofshit`\n",
    "* `r/therewasanattempt`\n",
    "* `r/illusions`\n",
    "* `r/Palestine`\n",
    "* `r/PublicFreakout`\n",
    "* `r/CombatFootage`\n",
    "* `r/FUCKYOUINPARTICULAR`\n",
    "* `r/IsItBullshit`\n",
    "* `r/IdiotsFightingThings`\n",
    "* `r/JordanPeterson`\n",
    "* `r/MensRights`\n",
    "* `r/OneSecondBeforeDisast`\n",
    "* `r/TIHI`\n",
    "* `r/ThatsInsane`\n",
    "* `r/TrueUnpopularOpinion`\n",
    "* `r/Wellthatsucks`\n",
    "* `r/Whatcouldgowrong`\n",
    "* `r/cringe`\n",
    "* `r/sex`\n",
    "* `r/stupidquestions`\n",
    "\n",
    "Therefore, I decided to use www.reddit.com/subreddits/ only. It's a list of 4387 subreddits."
   ]
  },
  {
   "cell_type": "markdown",
   "id": "a0a7dff4",
   "metadata": {},
   "source": [
    "##  Getting most popular subreddits from www.reddit.com/subreddits/"
   ]
  },
  {
   "cell_type": "code",
   "execution_count": null,
   "id": "fe6f672a",
   "metadata": {},
   "outputs": [],
   "source": [
    "#Old Reddit blocks non-browser requests, so I've got to use Selenium\n",
    "pop_subs = set()\n",
    "with open(\"popular-subreddits.txt\", \"w\") as out:\n",
    "    url = \"https://www.reddit.com/subreddits\"\n",
    "    regex_subs = re.compile(r'class=\"titlerow\"><a href=\"https://www.reddit.com/r/([^\"]+)/\"')\n",
    "    regex_next = re.compile(r'<span class=\"next-button\">\\s*<a href=\"([^\"]*)')\n",
    "    driver = webdriver.Chrome()\n",
    "\n",
    "    while True:\n",
    "        attempts = 0\n",
    "        matches = None\n",
    "        while not matches and attempts < 5:\n",
    "            driver.get(url)\n",
    "            source = driver.page_source\n",
    "            next_subs = regex_subs.findall(source)\n",
    "            matches = regex_next.findall(source)\n",
    "            time.sleep(5 + 5 * attempts)\n",
    "            attempts += 1\n",
    "\n",
    "        if next_subs:\n",
    "            next_subs = [s for s in next_subs if s] #removing empty strings\n",
    "            pop_subs |= set(next_subs)\n",
    "        \n",
    "        print(f\"Processed {url}, {len(next_subs)} subs\")\n",
    "        if not matches:\n",
    "            break #reached end of list\n",
    "\n",
    "        [url] = matches\n",
    "        out.flush()\n",
    "        time.sleep(5)\n",
    "\n",
    "print(f\"Compiled popular-communities.txt ({len(pop_subs)} subs)\")\n",
    "notify(\"reddit-mods-ds\", f\"Compiled popular-communities.txt ({len(pop_subs)} subs)\")"
   ]
  },
  {
   "cell_type": "code",
   "execution_count": 37,
   "id": "1e244dd0-dfb2-4848-9476-17303793aa30",
   "metadata": {},
   "outputs": [
    {
     "data": {
      "text/plain": [
       "4386"
      ]
     },
     "execution_count": 37,
     "metadata": {},
     "output_type": "execute_result"
    }
   ],
   "source": [
    "len(pop_subs)"
   ]
  },
  {
   "cell_type": "code",
   "execution_count": 25,
   "id": "83c29943-f7dd-4fef-bb6b-5f8baf8dbfae",
   "metadata": {},
   "outputs": [],
   "source": [
    "with open('popular-subreddits.txt', 'w') as f:\n",
    "    f.write('\\n'.join())"
   ]
  },
  {
   "cell_type": "markdown",
   "id": "0cb2fc6b-358d-44a8-abce-eeabe0869b28",
   "metadata": {},
   "source": [
    "# Inspecting subreddits"
   ]
  },
  {
   "cell_type": "markdown",
   "id": "6436ac8f",
   "metadata": {},
   "source": [
    "To increase speed, I will be using two different Reddit accounts. I have authorized a `script` application for each of them on www.reddit.com/prefs/apps."
   ]
  },
  {
   "cell_type": "markdown",
   "id": "4994f42a-974b-4aed-842a-373f97ca79a5",
   "metadata": {},
   "source": [
    "I will be using the schema\n",
    "![](schema.png)"
   ]
  },
  {
   "cell_type": "code",
   "execution_count": 20,
   "id": "2192313b-5079-4a34-b750-ca1a54e6705e",
   "metadata": {},
   "outputs": [],
   "source": [
    "class DBFactory:\n",
    "\n",
    "    db = None\n",
    "\n",
    "    def __call__(self):\n",
    "        # DBFactory.db = DBFactory.db or sqlite3.connect('db.sqlite3')\n",
    "        DBFactory.db = sqlite3.connect('db-new.sqlite3')\n",
    "        self.create_tables()\n",
    "        self.init_tables()\n",
    "        return self.db\n",
    "\n",
    "    \n",
    "    def create_tables(self):\n",
    "        cursor = self.db.cursor()\n",
    "        cursor.execute('''\n",
    "            CREATE TABLE IF NOT EXISTS subs(\n",
    "                name TEXT PRIMARY KEY,\n",
    "                nsubscr INTEGER,\n",
    "                processed BOOLEAN DEFAULT 0\n",
    "            )\n",
    "        ''')\n",
    "        cursor.execute('''\n",
    "            CREATE TABLE IF NOT EXISTS mods(\n",
    "                mod TEXT,\n",
    "                sub TEXT,\n",
    "                PRIMARY KEY (mod, sub)\n",
    "            )\n",
    "        ''')\n",
    "        cursor.execute('''\n",
    "            CREATE TABLE IF NOT EXISTS users(\n",
    "                name TEXT PRIMARY KEY,\n",
    "                is_bot BOOLEAN,\n",
    "                last_active INTEGER,\n",
    "                processed BOOLEAN DEFAULT 0\n",
    "            )\n",
    "        ''')\n",
    "        self.db.commit()\n",
    "        cursor.close()\n",
    "\n",
    "    def init_tables(self):\n",
    "        cursor = self.db.cursor()\n",
    "        self.db.commit()\n",
    "        cursor.close()\n",
    "        "
   ]
  },
  {
   "cell_type": "code",
   "execution_count": 7,
   "id": "08356d68-7da4-4211-bbd6-f47284da8cf1",
   "metadata": {},
   "outputs": [],
   "source": [
    "class SubInspector:\n",
    "    \n",
    "    def __init__(self, reddit):\n",
    "        self.reddit = reddit\n",
    "        self.db = DBFactory()()\n",
    "        self.cursor = self.db.cursor()\n",
    "\n",
    "    \n",
    "    def inspect(self, *, sub_name=None):        \n",
    "        self.cursor.execute(\"SELECT name FROM subs WHERE name=? AND processed=1\", (sub_name,))\n",
    "        if self.cursor.fetchone():\n",
    "            return 0 #sub already processed\n",
    "            \n",
    "        sub = self.reddit.subreddit(sub_name)\n",
    "        self.cursor.execute(\"INSERT OR IGNORE INTO subs(name, nsubscr) VALUES(?,?)\", (sub.display_name, sub.subscribers))\n",
    "        for mod in sub.moderator():\n",
    "            self.cursor.execute(\"INSERT OR IGNORE INTO mods(mod, sub) VALUES(?,?)\", (mod.name, sub.display_name))\n",
    "            self.cursor.execute(\"INSERT OR IGNORE INTO users(name) VALUES(?)\", (mod.name,))\n",
    "\n",
    "        self.cursor.execute(\"UPDATE subs SET processed = 1 WHERE name = ?\", (sub.display_name,))\n",
    "        self.db.commit()\n",
    "\n",
    "        logging.info(f'Inspected sub {sub.display_name}')\n",
    "        return 1 #sub is new\n",
    "\n",
    "\n",
    "    def set_reddit(self, reddit):\n",
    "        self.reddit = reddit\n",
    "\n",
    "    \n",
    "    def __del__(self):\n",
    "        self.cursor.close()\n",
    "            "
   ]
  },
  {
   "cell_type": "code",
   "execution_count": 31,
   "id": "dbaa0211-903c-43b9-8251-815287c8450a",
   "metadata": {},
   "outputs": [],
   "source": [
    "reddit1 = praw.Reddit(\n",
    "    client_id=os.getenv(\"CLIENT_ID_1\"),\n",
    "    client_secret=os.getenv(\"CLIENT_SECRET_1\"),\n",
    "    user_agent=os.getenv(\"USER_AGENT_1\"),\n",
    "    username=os.getenv(\"USER_NAME_1\"),\n",
    "    password=os.getenv(\"USER_PASS_1\")\n",
    ")\n",
    "\n",
    "reddit2 = praw.Reddit(\n",
    "    client_id=os.getenv(\"CLIENT_ID_2\"),\n",
    "    client_secret=os.getenv(\"CLIENT_SECRET_2\"),\n",
    "    user_agent=os.getenv(\"USER_AGENT_2\"),\n",
    "    username=os.getenv(\"USER_NAME_2\"),\n",
    "    password=os.getenv(\"USER_PASS_2\")\n",
    ")"
   ]
  },
  {
   "cell_type": "code",
   "execution_count": 36,
   "id": "012d49db-59e7-4a2d-89c7-8498df43d088",
   "metadata": {},
   "outputs": [
    {
     "data": {
      "application/vnd.jupyter.widget-view+json": {
       "model_id": "d07e8db02bd14ff79fead04f55ede066",
       "version_major": 2,
       "version_minor": 0
      },
      "text/plain": [
       "  0%|          | 0/4386 [00:00<?, ?it/s]"
      ]
     },
     "metadata": {},
     "output_type": "display_data"
    }
   ],
   "source": [
    "with open('popular-subreddits.txt', 'r') as f:\n",
    "    pop_subs = [s.strip() for s in f.readlines()]\n",
    "\n",
    "inspector = SubInspector(reddit1)\n",
    "npr = 0\n",
    "\n",
    "for i, sub_name in enumerate(tqdm(pop_subs)):    \n",
    "    if inspector.inspect(sub_name=sub_name):\n",
    "        npr += 1\n",
    "        time.sleep(0.5)\n",
    "\n",
    "    #magic to overcome Reddit's ratelimits\n",
    "    if npr and npr % 25 == 0:\n",
    "        inspector.set_reddit(reddit2 if inspector.reddit is reddit1 else reddit1)\n",
    "    if npr and npr % 50 == 0:\n",
    "        time.sleep(10)\n",
    "    if npr and npr % 100 == 0:\n",
    "        notify(\"reddit-mod-db\", f\"Processed {npr} subs, {len(pop_subs) - i} left...\") \n",
    "    if npr and npr % 500 == 0:\n",
    "        time.sleep(10)\n",
    "    if npr and npr % 1000 == 0:\n",
    "        time.sleep(10)\n",
    "\n",
    "notify(\"reddit-mod-db\", f\"Done processing popular {len(pop_subs)} subs!\") "
   ]
  },
  {
   "cell_type": "markdown",
   "id": "5ae4a495",
   "metadata": {},
   "source": [
    "# Writing output "
   ]
  },
  {
   "cell_type": "markdown",
   "id": "37558719",
   "metadata": {},
   "source": [
    "## Pooling data"
   ]
  },
  {
   "cell_type": "code",
   "execution_count": 29,
   "id": "7b36976f",
   "metadata": {},
   "outputs": [],
   "source": [
    "db = DBFactory()()\n",
    "cursor = db.cursor()"
   ]
  },
  {
   "cell_type": "code",
   "execution_count": 44,
   "id": "203b79c6",
   "metadata": {},
   "outputs": [
    {
     "data": {
      "application/vnd.jupyter.widget-view+json": {
       "model_id": "5badca69ed754b99b6c77463ff41a2d4",
       "version_major": 2,
       "version_minor": 0
      },
      "text/plain": [
       "  0%|          | 0/25834 [00:00<?, ?it/s]"
      ]
     },
     "metadata": {},
     "output_type": "display_data"
    }
   ],
   "source": [
    "with open('../subreddits.csv', 'w') as f:\n",
    "    f.write('name,n_members\\n')\n",
    "    cursor.execute(\"\"\"\n",
    "        SELECT name, nsubscr FROM subs ORDER BY nsubscr DESC;\n",
    "    \"\"\")\n",
    "    for name, n_members in tqdm(cursor.fetchall()):\n",
    "        f.write(f'{name},{n_members}\\n')"
   ]
  },
  {
   "cell_type": "code",
   "execution_count": 47,
   "id": "bb6bd765",
   "metadata": {},
   "outputs": [
    {
     "data": {
      "application/vnd.jupyter.widget-view+json": {
       "model_id": "0eee819a06204ff3bf3f7bfe2931e847",
       "version_major": 2,
       "version_minor": 0
      },
      "text/plain": [
       "  0%|          | 0/125812 [00:00<?, ?it/s]"
      ]
     },
     "metadata": {},
     "output_type": "display_data"
    }
   ],
   "source": [
    "with open('../moderators.csv', 'w') as f:\n",
    "    f.write(',moderator,subreddit\\n')\n",
    "    cursor.execute(\"\"\"\n",
    "        SELECT mods.mod, mods.sub FROM mods LEFT JOIN subs ON mods.sub = subs.name ORDER BY subs.nsubscr DESC;\n",
    "    \"\"\")\n",
    "    for i, (moderator, subreddit) in enumerate(tqdm(cursor.fetchall()), 1):\n",
    "        f.write(f'{i},{moderator},{subreddit}\\n')"
   ]
  },
  {
   "cell_type": "code",
   "execution_count": 69,
   "id": "d0d9f9f5",
   "metadata": {},
   "outputs": [],
   "source": [
    "with open('../bots.csv', 'w') as f:\n",
    "    f.write('name\\n')\n",
    "    cursor.execute(\"\"\"\n",
    "        SELECT name FROM bots;\n",
    "    \"\"\")\n",
    "    for (name, ) in cursor.fetchall():\n",
    "        f.write(name + '\\n')"
   ]
  },
  {
   "cell_type": "markdown",
   "id": "47a70741-dcb1-41cf-aa13-3ea4a08e2232",
   "metadata": {},
   "source": [
    "## Anonymising personal data"
   ]
  },
  {
   "cell_type": "markdown",
   "id": "f0a89fc4-b045-4999-ba48-4aef1d102fb5",
   "metadata": {},
   "source": [
    "Usernames are personal data, and can potentially be used to identify the individual. We will encode all moderator usernames by hashing them with SHA256."
   ]
  },
  {
   "cell_type": "code",
   "execution_count": 2,
   "id": "fd30c764-ad5c-4c84-afa4-ab306dd45250",
   "metadata": {},
   "outputs": [],
   "source": [
    "df_mods = pd.read_csv('../moderators.csv', index_col=0)"
   ]
  },
  {
   "cell_type": "code",
   "execution_count": 10,
   "id": "a812fd00-f4e4-4489-9f48-fd5a997b1ad6",
   "metadata": {},
   "outputs": [],
   "source": [
    "sha256_enc = lambda x: hashlib.sha256(x.encode()).hexdigest()\n",
    "df_mods['moderator'] = df_mods['moderator'].apply(sha256_enc)                         "
   ]
  },
  {
   "cell_type": "code",
   "execution_count": 11,
   "id": "6e6af549-03d2-410b-8ea4-fb09f5833497",
   "metadata": {},
   "outputs": [
    {
     "data": {
      "text/html": [
       "<div>\n",
       "<style scoped>\n",
       "    .dataframe tbody tr th:only-of-type {\n",
       "        vertical-align: middle;\n",
       "    }\n",
       "\n",
       "    .dataframe tbody tr th {\n",
       "        vertical-align: top;\n",
       "    }\n",
       "\n",
       "    .dataframe thead th {\n",
       "        text-align: right;\n",
       "    }\n",
       "</style>\n",
       "<table border=\"1\" class=\"dataframe\">\n",
       "  <thead>\n",
       "    <tr style=\"text-align: right;\">\n",
       "      <th></th>\n",
       "      <th>moderator</th>\n",
       "      <th>subreddit</th>\n",
       "    </tr>\n",
       "  </thead>\n",
       "  <tbody>\n",
       "    <tr>\n",
       "      <th>1</th>\n",
       "      <td>1039a46c82d342ef6c1d1b77cc7175a4cabd8cfb3f2e8d...</td>\n",
       "      <td>announcements</td>\n",
       "    </tr>\n",
       "    <tr>\n",
       "      <th>2</th>\n",
       "      <td>f58a99ef5e6677314d0fb1e5e7a0ee7ed8aad22cdf93a3...</td>\n",
       "      <td>announcements</td>\n",
       "    </tr>\n",
       "    <tr>\n",
       "      <th>3</th>\n",
       "      <td>c750264db0d83c6a5d722207514ab117a3fce88d9e5a34...</td>\n",
       "      <td>announcements</td>\n",
       "    </tr>\n",
       "    <tr>\n",
       "      <th>4</th>\n",
       "      <td>a39672e330f0293d47e69ea37cf54ece0edf739892ed59...</td>\n",
       "      <td>announcements</td>\n",
       "    </tr>\n",
       "    <tr>\n",
       "      <th>5</th>\n",
       "      <td>8e1519f03793fb5db6129addf6ef138056d15791508344...</td>\n",
       "      <td>announcements</td>\n",
       "    </tr>\n",
       "  </tbody>\n",
       "</table>\n",
       "</div>"
      ],
      "text/plain": [
       "                                           moderator      subreddit\n",
       "1  1039a46c82d342ef6c1d1b77cc7175a4cabd8cfb3f2e8d...  announcements\n",
       "2  f58a99ef5e6677314d0fb1e5e7a0ee7ed8aad22cdf93a3...  announcements\n",
       "3  c750264db0d83c6a5d722207514ab117a3fce88d9e5a34...  announcements\n",
       "4  a39672e330f0293d47e69ea37cf54ece0edf739892ed59...  announcements\n",
       "5  8e1519f03793fb5db6129addf6ef138056d15791508344...  announcements"
      ]
     },
     "execution_count": 11,
     "metadata": {},
     "output_type": "execute_result"
    }
   ],
   "source": [
    "df_mods.head()"
   ]
  },
  {
   "cell_type": "code",
   "execution_count": 13,
   "id": "99b184ce-b2e5-400b-bf09-0e5b28decfaa",
   "metadata": {},
   "outputs": [],
   "source": [
    "df_mods.to_csv('../moderators.csv')"
   ]
  },
  {
   "cell_type": "markdown",
   "id": "e3ecb435",
   "metadata": {},
   "source": [
    "## Writing graph "
   ]
  },
  {
   "cell_type": "code",
   "execution_count": 14,
   "id": "4a99396a",
   "metadata": {},
   "outputs": [],
   "source": [
    "df_subs = pd.read_csv('../subreddits.csv')\n",
    "df_mods = pd.read_csv('../moderators.csv', index_col=0)"
   ]
  },
  {
   "cell_type": "markdown",
   "id": "a7f7fa84-ffd4-4aa1-b068-5d9e46e9f181",
   "metadata": {},
   "source": [
    "Writing as a bipartite graph, where both mods and subs are nodes."
   ]
  },
  {
   "cell_type": "code",
   "execution_count": 15,
   "id": "e2e47ca9-6761-49d8-be0b-a1b4518ecc99",
   "metadata": {},
   "outputs": [],
   "source": [
    "n_members_dict = df_subs.set_index('name').to_dict()['n_members']"
   ]
  },
  {
   "cell_type": "code",
   "execution_count": 16,
   "id": "e32ff733-904e-43eb-8e48-de65d47d15ae",
   "metadata": {},
   "outputs": [],
   "source": [
    "g = nx.Graph()\n",
    "g.add_nodes_from(df_mods['moderator'].unique(), bipartite=0)\n",
    "for sub in df_mods['subreddit'].unique():\n",
    "    g.add_node(sub, size=n_members_dict[sub], bipartite=1)\n",
    "\n",
    "g.add_edges_from([tuple(row) for row in df_mods[['moderator', 'subreddit']].values])\n",
    "nx.write_gexf(g, '../graph.gexf')"
   ]
  },
  {
   "cell_type": "code",
   "execution_count": null,
   "id": "b0b3b7eb-89ca-45e1-b302-3fbfa8a379b2",
   "metadata": {},
   "outputs": [],
   "source": []
  }
 ],
 "metadata": {
  "kernelspec": {
   "display_name": "Python 3 (ipykernel)",
   "language": "python",
   "name": "python3"
  },
  "language_info": {
   "codemirror_mode": {
    "name": "ipython",
    "version": 3
   },
   "file_extension": ".py",
   "mimetype": "text/x-python",
   "name": "python",
   "nbconvert_exporter": "python",
   "pygments_lexer": "ipython3",
   "version": "3.10.15"
  },
  "toc": {
   "base_numbering": 1,
   "nav_menu": {},
   "number_sections": true,
   "sideBar": true,
   "skip_h1_title": false,
   "title_cell": "Table of Contents",
   "title_sidebar": "Contents",
   "toc_cell": false,
   "toc_position": {},
   "toc_section_display": true,
   "toc_window_display": false
  }
 },
 "nbformat": 4,
 "nbformat_minor": 5
}
