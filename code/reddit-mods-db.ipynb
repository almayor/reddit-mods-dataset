{
 "cells": [
  {
   "cell_type": "markdown",
   "id": "9098692f",
   "metadata": {},
   "source": [
    "_All data was collected on 06 Feb 2024._"
   ]
  },
  {
   "cell_type": "code",
   "execution_count": 1,
   "id": "739e0b40-92eb-4c10-b49f-5e436f82a8df",
   "metadata": {},
   "outputs": [],
   "source": [
    "import logging\n",
    "import os\n",
    "import shutil\n",
    "import sqlite3\n",
    "import time\n",
    "import re\n",
    "import requests\n",
    "from collections import defaultdict\n",
    "\n",
    "import networkx as nx\n",
    "import praw\n",
    "import pandas as pd\n",
    "from selenium import webdriver #also need a standalone chromedriver executable\n",
    "from tqdm.notebook import tqdm, trange\n",
    "from dotenv import load_dotenv\n",
    "from matplotlib_venn import venn2"
   ]
  },
  {
   "cell_type": "code",
   "execution_count": 2,
   "id": "e1544589-ba2b-4381-a65f-95ebba75fe84",
   "metadata": {},
   "outputs": [],
   "source": [
    "logging.basicConfig(level=logging.INFO)\n",
    "load_dotenv(); #loading environmental variables from .env"
   ]
  },
  {
   "cell_type": "code",
   "execution_count": 3,
   "id": "eb77df42",
   "metadata": {},
   "outputs": [],
   "source": [
    "def notify(title, message):\n",
    "    #Send a Telegram message using noti\n",
    "    #https://github.com/variadico/noti\n",
    "    if shutil.which(\"noti\"):\n",
    "        os.system(\"noti -g -t '%s' -m '%s'\" % (title, message))"
   ]
  },
  {
   "cell_type": "markdown",
   "id": "de484444",
   "metadata": {},
   "source": [
    "# Getting list of subreddits"
   ]
  },
  {
   "cell_type": "markdown",
   "id": "8e2c7e42-2a6b-4a8e-a094-c69db9144f1c",
   "metadata": {},
   "source": [
    "## Getting top 25'000 subreddits from www.reddit.com/best/communities/1/"
   ]
  },
  {
   "cell_type": "code",
   "execution_count": null,
   "id": "6cbf347e",
   "metadata": {},
   "outputs": [],
   "source": [
    "base_url = \"https://www.reddit.com/best/communities/%i/\"\n",
    "regex = re.compile(r'data-prefixed-name=\"r/([^\\\"]*)\"') #regex found by inspecting the source code\n",
    "top_subs = []\n",
    "\n",
    "for i in tqdm(range(1, 100)):\n",
    "    res = requests.get(base_url % i)\n",
    "    subs = regex.findall(res.text)\n",
    "    top_subs += subs\n",
    "    time.sleep(0.1)"
   ]
  },
  {
   "cell_type": "code",
   "execution_count": 47,
   "id": "350f2cd8-26b3-409e-8ce4-8339716d029d",
   "metadata": {},
   "outputs": [],
   "source": [
    "with open('top-subreddits.txt', 'w') as f:\n",
    "    f.write('\\n'.join(top_subs) + '\\n')"
   ]
  },
  {
   "cell_type": "markdown",
   "id": "5fcc7d67",
   "metadata": {},
   "source": [
    "One of the subs, `r/rachelweaversnark` later on turned out to be private. I removed it from the list, which now contains 24'999 subreddits."
   ]
  },
  {
   "cell_type": "markdown",
   "id": "a0a7dff4",
   "metadata": {},
   "source": [
    "##  Getting most popular subreddits from www.reddit.com/subreddits/"
   ]
  },
  {
   "cell_type": "markdown",
   "id": "a183612d",
   "metadata": {},
   "source": [
    "Note than some of Reddit's most popular communities are [missing](https://www.reddit.com/r/ModSupport/comments/xu57y6/our_subreddit_is_not_showing_in_the_best_reddit/) from www.reddit.com/top/communities/1/. That's probably because Reddit doesn't want to suggest NSFW or controversial communities to new users or advertisers. Some examples of missing subs:\n",
    "* `r/iamatotalpieceofshit`\n",
    "* `r/therewasanattempt`\n",
    "* `r/illusions`\n",
    "* `r/Palestine`\n",
    "* `r/PublicFreakout`\n",
    "* `r/CombatFootage`\n",
    "* `r/FUCKYOUINPARTICULAR`\n",
    "* `r/IsItBullshit`\n",
    "* `r/IdiotsFightingThings`\n",
    "* `r/JordanPeterson`\n",
    "* `r/MensRights`\n",
    "* `r/OneSecondBeforeDisast`\n",
    "* `r/TIHI`\n",
    "* `r/ThatsInsane`\n",
    "* `r/TrueUnpopularOpinion`\n",
    "* `r/Wellthatsucks`\n",
    "* `r/Whatcouldgowrong`\n",
    "* `r/cringe`\n",
    "* `r/sex`\n",
    "* `r/stupidquestions`\n",
    "\n",
    "To overcome the issue, I also scraped all the most popular communities listed at www.reddit.com/subreddits/. There was a total of 4336 of them."
   ]
  },
  {
   "cell_type": "code",
   "execution_count": null,
   "id": "fe6f672a",
   "metadata": {},
   "outputs": [],
   "source": [
    "#Old Reddit blocks non-browser requests, so I've got to use Selenium\n",
    "\n",
    "with open(\"popular-subreddits.txt\", \"w\") as out:\n",
    "    url = \"https://www.reddit.com/subreddits\"\n",
    "    regex_subs = re.compile(r'class=\"titlerow\"><a href=\"https://www.reddit.com/r/([^\"]+)/\"')\n",
    "    regex_next = re.compile(r'<span class=\"next-button\">\\s*<a href=\"([^\"]*)')\n",
    "    driver = webdriver.Chrome()\n",
    "\n",
    "    while True:\n",
    "        driver.get(url)\n",
    "        source = driver.page_source\n",
    "        next_subs = regex_subs.findall(source)\n",
    "        out.write('\\n'.join(next_subs) + '\\n')\n",
    "        matches = regex_next.findall(source)\n",
    "        if not matches:\n",
    "            break #reached end of list\n",
    "        [url] = matches\n",
    "        out.flush()\n",
    "        time.sleep(5)"
   ]
  },
  {
   "cell_type": "markdown",
   "id": "f77513aa",
   "metadata": {},
   "source": [
    "## Pooling two lists together "
   ]
  },
  {
   "cell_type": "code",
   "execution_count": 6,
   "id": "a6366faa",
   "metadata": {},
   "outputs": [],
   "source": [
    "with open(\"popular-subreddits.txt\", \"r\") as f:\n",
    "    popular_subs = [s.strip() for s in f.readlines()]\n",
    "    \n",
    "with open(\"top-subreddits.txt\", \"r\") as f:\n",
    "    top_subs = [s.strip() for s in f.readlines()]"
   ]
  },
  {
   "cell_type": "code",
   "execution_count": 14,
   "id": "9feb6539",
   "metadata": {},
   "outputs": [
    {
     "data": {
      "image/png": "[encoded data removed]",
      "text/plain": [
       "<Figure size 640x480 with 1 Axes>"
      ]
     },
     "metadata": {},
     "output_type": "display_data"
    }
   ],
   "source": [
    "venn2([set(top_subs), set(popular_subs)], set_labels=('top', 'popular'));"
   ]
  },
  {
   "cell_type": "code",
   "execution_count": 15,
   "id": "fcf28692",
   "metadata": {},
   "outputs": [],
   "source": [
    "#first writing popular subs, then top subs\n",
    "with open(\"all-subreddits.txt\", 'w') as f:\n",
    "    for s in popular_subs:\n",
    "        f.write(s + '\\n')\n",
    "    popular_set = set(popular_subs)\n",
    "    for s in top_subs:\n",
    "        if s not in popular_set:\n",
    "            f.write(s + '\\n')"
   ]
  },
  {
   "cell_type": "code",
   "execution_count": 16,
   "id": "43444eb6",
   "metadata": {},
   "outputs": [
    {
     "name": "stdout",
     "output_type": "stream",
     "text": [
      "   25834 all-subreddits.txt\r\n"
     ]
    }
   ],
   "source": [
    "!wc -l all-subreddits.txt"
   ]
  },
  {
   "cell_type": "markdown",
   "id": "83c977ee",
   "metadata": {},
   "source": [
    "I will be inspecting 25834 subs in total."
   ]
  },
  {
   "cell_type": "markdown",
   "id": "0cb2fc6b-358d-44a8-abce-eeabe0869b28",
   "metadata": {},
   "source": [
    "# Inspecting subreddits"
   ]
  },
  {
   "cell_type": "markdown",
   "id": "6436ac8f",
   "metadata": {},
   "source": [
    "To increase speed, I will be using two different Reddit accounts. I have authorized a `script` application for each of them on www.reddit.com/prefs/apps."
   ]
  },
  {
   "cell_type": "markdown",
   "id": "1ea49408",
   "metadata": {},
   "source": [
    "I will be using the schema\n",
    "![](schema.png)"
   ]
  },
  {
   "cell_type": "code",
   "execution_count": 26,
   "id": "2192313b-5079-4a34-b750-ca1a54e6705e",
   "metadata": {},
   "outputs": [],
   "source": [
    "class DBFactory:\n",
    "\n",
    "    db = None\n",
    "\n",
    "    def __call__(self):\n",
    "        DBFactory.db = DBFactory.db or sqlite3.connect('db.sqlite3')\n",
    "        self.create_tables()\n",
    "        self.init_tables()\n",
    "        return self.db\n",
    "\n",
    "    \n",
    "    def create_tables(self):\n",
    "        cursor = self.db.cursor()\n",
    "        cursor.execute('''\n",
    "            CREATE TABLE IF NOT EXISTS subs(\n",
    "                name TEXT PRIMARY KEY,\n",
    "                nsubscr INTEGER,\n",
    "                processed BOOLEAN DEFAULT 0\n",
    "            )\n",
    "        ''')\n",
    "        cursor.execute('''\n",
    "            CREATE TABLE IF NOT EXISTS mods(\n",
    "                mod TEXT,\n",
    "                sub TEXT,\n",
    "                PRIMARY KEY (mod, sub)\n",
    "            )\n",
    "        ''')\n",
    "        cursor.execute('''\n",
    "            CREATE TABLE IF NOT EXISTS bots(\n",
    "                name TEXT PRIMARY KEY\n",
    "            )\n",
    "        ''')\n",
    "        self.db.commit()\n",
    "        cursor.close()\n",
    "\n",
    "    def init_tables(self):\n",
    "        cursor = self.db.cursor()\n",
    "        known_bots = {\n",
    "            'mod-mentions',\n",
    "            'hive-protect',\n",
    "            'comment-nuke',\n",
    "            'purge-user',\n",
    "            'spam-nuke',\n",
    "            'modmail-userinfo',\n",
    "            'onedayflair',\n",
    "            'AutoModerator'\n",
    "        }\n",
    "        for bot_name in known_bots:\n",
    "            cursor.execute(\"INSERT OR IGNORE INTO bots(name) VALUES(?)\", (bot_name,))\n",
    "        self.db.commit()\n",
    "        cursor.close()\n",
    "        "
   ]
  },
  {
   "cell_type": "code",
   "execution_count": 27,
   "id": "08356d68-7da4-4211-bbd6-f47284da8cf1",
   "metadata": {},
   "outputs": [],
   "source": [
    "class SubInspector:\n",
    "    \n",
    "    def __init__(self, reddit):\n",
    "        self.reddit = reddit\n",
    "        self.db = DBFactory()()\n",
    "        self.cursor = self.db.cursor()\n",
    "\n",
    "    \n",
    "    def inspect(self, *, sub_name=None):        \n",
    "        self.cursor.execute(\"SELECT name FROM subs WHERE name=? AND processed=1\", (sub_name,))\n",
    "        if self.cursor.fetchone():\n",
    "            return\n",
    "            \n",
    "        sub = self.reddit.subreddit(sub_name)\n",
    "        self.cursor.execute(\"INSERT OR IGNORE INTO subs(name, nsubscr) VALUES(?,?)\", (sub.display_name, sub.subscribers))\n",
    "        for mod in sub.moderator():\n",
    "            if self.is_bot(mod):\n",
    "                continue\n",
    "            self.cursor.execute(\"INSERT OR IGNORE INTO mods(mod, sub) VALUES(?,?)\", (mod.name, sub.display_name))\n",
    "\n",
    "        self.cursor.execute(\"UPDATE subs SET processed = 1 WHERE name = ?\", (sub.display_name,))\n",
    "        self.db.commit()\n",
    "        time.sleep(0.5)\n",
    "        logging.info(f'Inspected sub {sub.display_name}')\n",
    "\n",
    "\n",
    "    def is_bot(self, mod):\n",
    "        #identifying bots by name ONLY\n",
    "        mod_name = mod.name\n",
    "        self.cursor.execute(\"SELECT name FROM bots WHERE name=?\", (mod.name,))\n",
    "        if self.cursor.fetchone():\n",
    "            return True\n",
    "        elif mod_name.lower().startswith('bot') or mod_name.lower().endswith('bot'):\n",
    "            self.cursor.execute(\"INSERT INTO bots(name) VALUES(?)\", (mod.name,)) \n",
    "        else:\n",
    "            return False\n",
    "        self.db.commit()\n",
    "        return True\n",
    "\n",
    "\n",
    "    def set_reddit(self, reddit):\n",
    "        self.reddit = reddit\n",
    "\n",
    "    \n",
    "    def __del__(self):\n",
    "        self.cursor.close()\n",
    "            "
   ]
  },
  {
   "cell_type": "code",
   "execution_count": 74,
   "id": "dbaa0211-903c-43b9-8251-815287c8450a",
   "metadata": {},
   "outputs": [],
   "source": [
    "reddit1 = praw.Reddit(\n",
    "    client_id=os.getenv(\"CLIENT_ID_1\"),\n",
    "    client_secret=os.getenv(\"CLIENT_SECRET_1\"),\n",
    "    user_agent=os.getenv(\"USER_AGENT_1\"),\n",
    "    username=os.getenv(\"USER_NAME_1\"),\n",
    "    password=os.getenv(\"USER_PASS_1\")\n",
    ")\n",
    "\n",
    "reddit2 = praw.Reddit(\n",
    "    client_id=os.getenv(\"CLIENT_ID_2\"),\n",
    "    client_secret=os.getenv(\"CLIENT_SECRET_2\"),\n",
    "    user_agent=os.getenv(\"USER_AGENT_2\"),\n",
    "    username=os.getenv(\"USER_NAME_2\"),\n",
    "    password=os.getenv(\"USER_PASS_2\")\n",
    ")"
   ]
  },
  {
   "cell_type": "code",
   "execution_count": null,
   "id": "012d49db-59e7-4a2d-89c7-8498df43d088",
   "metadata": {},
   "outputs": [],
   "source": [
    "with open('all-subreddits.txt', 'r') as f:\n",
    "    all_subs = [s.strip() for s in f.readlines()]\n",
    "\n",
    "inspector = SubInspector(reddit1)\n",
    "\n",
    "for i, sub_name in enumerate(tqdm(all_subs)):\n",
    "    #magic to overcome Reddit's ratelimits\n",
    "    if i and i % 25 == 0:\n",
    "        inspector.set_reddit(reddit2 if inspector.reddit is reddit1 else reddit1)\n",
    "    if i and i % 50 == 0:\n",
    "        time.sleep(10)\n",
    "    if i and i % 500 == 0:\n",
    "        time.sleep(10)\n",
    "    if i and i % 1000 == 0:\n",
    "        time.sleep(10)\n",
    "    \n",
    "    inspector.inspect(sub_name=sub_name)\n",
    "\n",
    "notify(\"reddit-mod-db\", f\"Done processing top {len(all_subs)} subs!\") "
   ]
  },
  {
   "cell_type": "markdown",
   "id": "5ae4a495",
   "metadata": {},
   "source": [
    "# Writing output "
   ]
  },
  {
   "cell_type": "markdown",
   "id": "37558719",
   "metadata": {},
   "source": [
    "## Writing CSV "
   ]
  },
  {
   "cell_type": "code",
   "execution_count": 29,
   "id": "7b36976f",
   "metadata": {},
   "outputs": [],
   "source": [
    "db = DBFactory()()\n",
    "cursor = db.cursor()"
   ]
  },
  {
   "cell_type": "code",
   "execution_count": 44,
   "id": "203b79c6",
   "metadata": {},
   "outputs": [
    {
     "data": {
      "application/vnd.jupyter.widget-view+json": {
       "model_id": "5badca69ed754b99b6c77463ff41a2d4",
       "version_major": 2,
       "version_minor": 0
      },
      "text/plain": [
       "  0%|          | 0/25834 [00:00<?, ?it/s]"
      ]
     },
     "metadata": {},
     "output_type": "display_data"
    }
   ],
   "source": [
    "with open('../subreddits.csv', 'w') as f:\n",
    "    f.write('name,n_members\\n')\n",
    "    cursor.execute(\"\"\"\n",
    "        SELECT name, nsubscr FROM subs ORDER BY nsubscr DESC;\n",
    "    \"\"\")\n",
    "    for name, n_members in tqdm(cursor.fetchall()):\n",
    "        f.write(f'{name},{n_members}\\n')"
   ]
  },
  {
   "cell_type": "code",
   "execution_count": 47,
   "id": "bb6bd765",
   "metadata": {},
   "outputs": [
    {
     "data": {
      "application/vnd.jupyter.widget-view+json": {
       "model_id": "0eee819a06204ff3bf3f7bfe2931e847",
       "version_major": 2,
       "version_minor": 0
      },
      "text/plain": [
       "  0%|          | 0/125812 [00:00<?, ?it/s]"
      ]
     },
     "metadata": {},
     "output_type": "display_data"
    }
   ],
   "source": [
    "with open('../moderators.csv', 'w') as f:\n",
    "    f.write(',moderator,subreddit\\n')\n",
    "    cursor.execute(\"\"\"\n",
    "        SELECT mods.mod, mods.sub FROM mods LEFT JOIN subs ON mods.sub = subs.name ORDER BY subs.nsubscr DESC;\n",
    "    \"\"\")\n",
    "    for i, (moderator, subreddit) in enumerate(tqdm(cursor.fetchall()), 1):\n",
    "        f.write(f'{i},{moderator},{subreddit}\\n')"
   ]
  },
  {
   "cell_type": "code",
   "execution_count": 69,
   "id": "d0d9f9f5",
   "metadata": {},
   "outputs": [],
   "source": [
    "with open('../bots.csv', 'w') as f:\n",
    "    f.write('name\\n')\n",
    "    cursor.execute(\"\"\"\n",
    "        SELECT name FROM bots;\n",
    "    \"\"\")\n",
    "    for (name, ) in cursor.fetchall():\n",
    "        f.write(name + '\\n')"
   ]
  },
  {
   "cell_type": "markdown",
   "id": "e3ecb435",
   "metadata": {},
   "source": [
    "## Writing GEXF "
   ]
  },
  {
   "cell_type": "code",
   "execution_count": 5,
   "id": "4a99396a",
   "metadata": {},
   "outputs": [],
   "source": [
    "df_subs = pd.read_csv('../subreddits.csv')\n",
    "df_mods = pd.read_csv('../moderators.csv', index_col=0)"
   ]
  },
  {
   "cell_type": "code",
   "execution_count": 6,
   "id": "2824c9ad",
   "metadata": {},
   "outputs": [
    {
     "data": {
      "text/html": [
       "<div>\n",
       "<style scoped>\n",
       "    .dataframe tbody tr th:only-of-type {\n",
       "        vertical-align: middle;\n",
       "    }\n",
       "\n",
       "    .dataframe tbody tr th {\n",
       "        vertical-align: top;\n",
       "    }\n",
       "\n",
       "    .dataframe thead th {\n",
       "        text-align: right;\n",
       "    }\n",
       "</style>\n",
       "<table border=\"1\" class=\"dataframe\">\n",
       "  <thead>\n",
       "    <tr style=\"text-align: right;\">\n",
       "      <th></th>\n",
       "      <th>moderator</th>\n",
       "      <th>subreddit</th>\n",
       "    </tr>\n",
       "  </thead>\n",
       "  <tbody>\n",
       "    <tr>\n",
       "      <th>1</th>\n",
       "      <td>spez</td>\n",
       "      <td>announcements</td>\n",
       "    </tr>\n",
       "    <tr>\n",
       "      <th>2</th>\n",
       "      <td>sodypop</td>\n",
       "      <td>announcements</td>\n",
       "    </tr>\n",
       "    <tr>\n",
       "      <th>3</th>\n",
       "      <td>Sporkicide</td>\n",
       "      <td>announcements</td>\n",
       "    </tr>\n",
       "    <tr>\n",
       "      <th>4</th>\n",
       "      <td>redtaboo</td>\n",
       "      <td>announcements</td>\n",
       "    </tr>\n",
       "    <tr>\n",
       "      <th>5</th>\n",
       "      <td>Chtorrr</td>\n",
       "      <td>announcements</td>\n",
       "    </tr>\n",
       "  </tbody>\n",
       "</table>\n",
       "</div>"
      ],
      "text/plain": [
       "    moderator      subreddit\n",
       "1        spez  announcements\n",
       "2     sodypop  announcements\n",
       "3  Sporkicide  announcements\n",
       "4    redtaboo  announcements\n",
       "5     Chtorrr  announcements"
      ]
     },
     "execution_count": 6,
     "metadata": {},
     "output_type": "execute_result"
    }
   ],
   "source": [
    "df_mods.head()"
   ]
  },
  {
   "cell_type": "code",
   "execution_count": 7,
   "id": "e390c8e0",
   "metadata": {},
   "outputs": [
    {
     "data": {
      "text/html": [
       "<div>\n",
       "<style scoped>\n",
       "    .dataframe tbody tr th:only-of-type {\n",
       "        vertical-align: middle;\n",
       "    }\n",
       "\n",
       "    .dataframe tbody tr th {\n",
       "        vertical-align: top;\n",
       "    }\n",
       "\n",
       "    .dataframe thead th {\n",
       "        text-align: right;\n",
       "    }\n",
       "</style>\n",
       "<table border=\"1\" class=\"dataframe\">\n",
       "  <thead>\n",
       "    <tr style=\"text-align: right;\">\n",
       "      <th></th>\n",
       "      <th>name</th>\n",
       "      <th>n_members</th>\n",
       "    </tr>\n",
       "  </thead>\n",
       "  <tbody>\n",
       "    <tr>\n",
       "      <th>0</th>\n",
       "      <td>announcements</td>\n",
       "      <td>280481257</td>\n",
       "    </tr>\n",
       "    <tr>\n",
       "      <th>1</th>\n",
       "      <td>funny</td>\n",
       "      <td>56515611</td>\n",
       "    </tr>\n",
       "    <tr>\n",
       "      <th>2</th>\n",
       "      <td>AskReddit</td>\n",
       "      <td>44954249</td>\n",
       "    </tr>\n",
       "    <tr>\n",
       "      <th>3</th>\n",
       "      <td>gaming</td>\n",
       "      <td>39436141</td>\n",
       "    </tr>\n",
       "    <tr>\n",
       "      <th>4</th>\n",
       "      <td>aww</td>\n",
       "      <td>35362104</td>\n",
       "    </tr>\n",
       "  </tbody>\n",
       "</table>\n",
       "</div>"
      ],
      "text/plain": [
       "            name  n_members\n",
       "0  announcements  280481257\n",
       "1          funny   56515611\n",
       "2      AskReddit   44954249\n",
       "3         gaming   39436141\n",
       "4            aww   35362104"
      ]
     },
     "execution_count": 7,
     "metadata": {},
     "output_type": "execute_result"
    }
   ],
   "source": [
    "df_subs.head()"
   ]
  },
  {
   "cell_type": "markdown",
   "id": "a59f5975-e0d9-4e84-8baf-8eaf6d9b704e",
   "metadata": {},
   "source": [
    "### Bipartite Graph"
   ]
  },
  {
   "cell_type": "markdown",
   "id": "a7f7fa84-ffd4-4aa1-b068-5d9e46e9f181",
   "metadata": {},
   "source": [
    "Writing as a bipartite graph, where both mods and subs are nodes."
   ]
  },
  {
   "cell_type": "code",
   "execution_count": 15,
   "id": "e32ff733-904e-43eb-8e48-de65d47d15ae",
   "metadata": {},
   "outputs": [],
   "source": [
    "g = nx.Graph()\n",
    "g.add_nodes_from(df_mods['moderator'].unique(), bipartite=0)\n",
    "g.add_nodes_from(df_mods['subreddit'].unique(), bipartite=1)\n",
    "g.add_edges_from([tuple(row) for row in df_mods[['moderator', 'subreddit']].values])\n",
    "nx.write_gexf(g, '../graph.gexf')"
   ]
  }
 ],
 "metadata": {
  "kernelspec": {
   "display_name": "Python 3 (ipykernel)",
   "language": "python",
   "name": "python3"
  },
  "language_info": {
   "codemirror_mode": {
    "name": "ipython",
    "version": 3
   },
   "file_extension": ".py",
   "mimetype": "text/x-python",
   "name": "python",
   "nbconvert_exporter": "python",
   "pygments_lexer": "ipython3",
   "version": "3.10.11"
  },
  "toc": {
   "base_numbering": 1,
   "nav_menu": {},
   "number_sections": true,
   "sideBar": true,
   "skip_h1_title": false,
   "title_cell": "Table of Contents",
   "title_sidebar": "Contents",
   "toc_cell": false,
   "toc_position": {},
   "toc_section_display": true,
   "toc_window_display": false
  }
 },
 "nbformat": 4,
 "nbformat_minor": 5
}
